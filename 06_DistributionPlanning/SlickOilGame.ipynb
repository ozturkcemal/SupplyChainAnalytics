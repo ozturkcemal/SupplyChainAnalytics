{
  "nbformat": 4,
  "nbformat_minor": 0,
  "metadata": {
    "colab": {
      "provenance": [],
      "authorship_tag": "ABX9TyNHwkCVm9x0lgt6wrRPNoEK",
      "include_colab_link": true
    },
    "kernelspec": {
      "name": "python3",
      "display_name": "Python 3"
    },
    "language_info": {
      "name": "python"
    }
  },
  "cells": [
    {
      "cell_type": "markdown",
      "metadata": {
        "id": "view-in-github",
        "colab_type": "text"
      },
      "source": [
        "<a href=\"https://colab.research.google.com/github/ozturkcemal/SupplyChainAnalytics/blob/main/06_DistributionPlanning/SlickOilGame.ipynb\" target=\"_parent\"><img src=\"https://colab.research.google.com/assets/colab-badge.svg\" alt=\"Open In Colab\"/></a>"
      ]
    },
    {
      "cell_type": "code",
      "execution_count": null,
      "metadata": {
        "id": "en5DRZ41jko9"
      },
      "outputs": [],
      "source": [
        "#installing library to read xlsx files\n",
        "!pip install pandas openpyxl"
      ]
    },
    {
      "cell_type": "code",
      "source": [
        "from google.colab import files\n",
        "uploaded = files.upload()"
      ],
      "metadata": {
        "id": "tCnyZCCpkGk_"
      },
      "execution_count": null,
      "outputs": []
    },
    {
      "cell_type": "code",
      "source": [
        "\n",
        "\n",
        "# Import libraries\n",
        "import openpyxl\n",
        "import pandas as pd\n",
        "import numpy as np  # Import NumPy for array manipulation\n",
        "\n",
        "\n",
        "# Get the file name of the uploaded file\n",
        "file_name = list(uploaded.keys())[0]\n",
        "\n",
        "# Load the workbook\n",
        "workbook = openpyxl.load_workbook(file_name, data_only=True)\n",
        "\n",
        "# Initialize a dictionary to store DataFrames for each named range\n",
        "named_ranges_data = {}\n",
        "\n",
        "# Loop through all defined names in the workbook\n",
        "for name, defined_name in workbook.defined_names.items():\n",
        "    destinations = list(defined_name.destinations)\n",
        "    if not destinations:\n",
        "        continue  # Skip if there are no destinations\n",
        "\n",
        "    for sheet_name, cell_range in destinations:\n",
        "        try:\n",
        "            sheet = workbook[sheet_name]\n",
        "\n",
        "            # If it's a single cell, handle it differently\n",
        "            if \":\" not in cell_range:  # Single cell (no colon in the range)\n",
        "                cell_value = sheet[cell_range].value\n",
        "                # Convert the single cell value into a DataFrame (1x1)\n",
        "                df = pd.DataFrame([[cell_value]])\n",
        "\n",
        "            else:\n",
        "                # Retrieve the data from the specified range\n",
        "                data = []\n",
        "                for row in sheet[cell_range]:\n",
        "                    data.append([cell.value for cell in row])\n",
        "\n",
        "                # Convert to DataFrame\n",
        "                df = pd.DataFrame(data)\n",
        "\n",
        "            # Store the DataFrame with the named range as the key\n",
        "            named_ranges_data[name] = df\n",
        "\n",
        "        except Exception as e:\n",
        "            print(f\"Error processing range {name}: {e}\")\n",
        "            continue\n",
        "\n",
        "# Create an array for each DataFrame, named after the DataFrame\n",
        "for range_name, df in named_ranges_data.items():\n",
        "    globals()[range_name] = np.array(df)  # Converts the DataFrame to a NumPy array\n",
        "\n",
        "# Example of accessing one of the dynamically created arrays\n",
        "for range_name in named_ranges_data:\n",
        "    print(f\"Array created for {range_name}:\")\n",
        "    print(globals()[range_name])\n",
        "    print()\n",
        "\n",
        "\n",
        "wells = list(range(wells.shape[0]))\n",
        "print(\"List of wells:\", wells)\n",
        "\n",
        "# Create a list of indices from 0 to num_refineries - 1\n",
        "refineries= list(range(refineries.shape[1]))\n",
        "\n",
        "# Print the resulting list\n",
        "print(\"List of refineries:\", refineries)\n"
      ],
      "metadata": {
        "id": "M4jsgsCUkWwP"
      },
      "execution_count": null,
      "outputs": []
    },
    {
      "cell_type": "code",
      "source": [
        "#installing pyomo\n",
        "!pip install -q pyomo"
      ],
      "metadata": {
        "id": "KjLUS5ABywRu"
      },
      "execution_count": 19,
      "outputs": []
    },
    {
      "cell_type": "code",
      "source": [
        "#installing coin or\n",
        "!apt-get install -y -qq coinor-cbc"
      ],
      "metadata": {
        "id": "fTef0yo1y2E1"
      },
      "execution_count": null,
      "outputs": []
    },
    {
      "cell_type": "code",
      "source": [
        "#importing pyomo environment\n",
        "import pyomo.environ as pyo"
      ],
      "metadata": {
        "id": "XSmcs5ibXm7b"
      },
      "execution_count": 20,
      "outputs": []
    },
    {
      "cell_type": "code",
      "source": [
        "#creating a model object\n",
        "model = pyo.ConcreteModel()"
      ],
      "metadata": {
        "collapsed": true,
        "id": "M7D5CgmFaYN_"
      },
      "execution_count": 21,
      "outputs": []
    },
    {
      "cell_type": "code",
      "source": [
        "#defining variables\n",
        "model.x = pyo.Var(wells,refineries, within=pyo.NonNegativeReals)\n",
        "model.y = pyo.Var(refineries, within=pyo.NonNegativeReals)\n",
        "model.x.pprint()\n",
        "model.y.pprint()"
      ],
      "metadata": {
        "id": "4SfpB2wAzGCV"
      },
      "execution_count": null,
      "outputs": []
    },
    {
      "cell_type": "code",
      "source": [
        "# Remove any existing objective component named \"obj\"\n",
        "if hasattr(model, 'obj'):\n",
        "    model.del_component('obj')\n",
        "\n",
        "#defining objective function\n",
        "model.obj = pyo.Objective(\n",
        "    expr=sum(refCost[0][j] * model.y[j] for j in refineries) +\n",
        "         sum(transportCost[i][j] * model.x[i, j] for i in wells for j in refineries if transportCost[i][j]>0),\n",
        "    sense=pyo.minimize\n",
        ")\n",
        "model.obj.pprint()"
      ],
      "metadata": {
        "id": "rL14K3p_zkkD"
      },
      "execution_count": null,
      "outputs": []
    },
    {
      "cell_type": "code",
      "source": [
        "# make sure refinery amount is less then the total amount coming from all wells\n",
        "model.constraint_wellRef = pyo.ConstraintList()\n",
        "for j in refineries:\n",
        "    model.constraint_wellRef.add(sum(model.x[i, j] for i in wells) >= model.y[j])\n",
        "model.constraint_wellRef.pprint()"
      ],
      "metadata": {
        "id": "mwwMnXKbEf32"
      },
      "execution_count": null,
      "outputs": []
    },
    {
      "cell_type": "code",
      "source": [
        "#make sure the demand is satisfied\n",
        "model.constraint_demand = pyo.ConstraintList()\n",
        "model.constraint_demand.add(sum(model.y[j] for j in refineries) >= demand[0][0])\n",
        "model.constraint_demand.pprint()"
      ],
      "metadata": {
        "id": "2anrtJKkzt5q"
      },
      "execution_count": null,
      "outputs": []
    },
    {
      "cell_type": "code",
      "source": [
        "#modeling well  capacity constraint\n",
        "\n",
        "if hasattr(model, 'constraint_wellCap'):\n",
        "       model.del_component(model.constraint_wellCap)\n",
        "\n",
        "model.constraint_wellCap = pyo.ConstraintList()\n",
        "for i in wells:\n",
        "    well_capacity = float(wellCap[i, 0])  # Extract the single element\n",
        "    model.constraint_wellCap.add(sum(model.x[i, j] for j in refineries) <= well_capacity)\n",
        "model.constraint_wellCap.pprint()"
      ],
      "metadata": {
        "id": "b4a-ChlE5i76"
      },
      "execution_count": null,
      "outputs": []
    },
    {
      "cell_type": "code",
      "source": [
        "#modeling refinery capacity constraint\n",
        "model.constraint_refCap = pyo.ConstraintList()\n",
        "for j in refineries:\n",
        "    model.constraint_refCap.add(sum(model.x[i, j] for i in wells) <= refCap[0][j])\n",
        "model.constraint_refCap.pprint()"
      ],
      "metadata": {
        "id": "2UFH6xKZ84GP"
      },
      "execution_count": null,
      "outputs": []
    },
    {
      "cell_type": "code",
      "source": [
        "#make sure no transport from a well to a refinery if there is no path\n",
        "model.constraint_forbidden= pyo.ConstraintList()\n",
        "for i in wells:\n",
        "  for j in refineries:\n",
        "    if transportCost[i][j] == 0:\n",
        "      model.constraint_forbidden.add(model.x[i,j] == 0)\n",
        "model.constraint_forbidden.pprint()"
      ],
      "metadata": {
        "id": "-zgifiiArbtL"
      },
      "execution_count": null,
      "outputs": []
    },
    {
      "cell_type": "code",
      "source": [
        "#connecting cbc solver and printing the model\n",
        "opt = pyo.SolverFactory('cbc')\n",
        "model.pprint()"
      ],
      "metadata": {
        "id": "FFnZQFwz0-9M"
      },
      "execution_count": null,
      "outputs": []
    },
    {
      "cell_type": "code",
      "source": [
        "#solve the model\n",
        "opt_solution = opt.solve(model)"
      ],
      "metadata": {
        "id": "-8VpT6rN1JGa"
      },
      "execution_count": 83,
      "outputs": []
    },
    {
      "cell_type": "code",
      "source": [
        "# Print the values of the decision variables\n",
        "#we are shifting the indices for presentation\n",
        "print(\"\\nWells to refineries:\")\n",
        "for i in wells:\n",
        "    for j in refineries:\n",
        "      if model.x[i, j].value > 0:\n",
        "        print(f\"well {i+1} to refinery {j+1}: {model.x[i, j].value}\")\n",
        "\n",
        "print(\"\\nRefineries to the customer :\")\n",
        "for j in refineries:\n",
        "    if model.y[j].value > 0:\n",
        "      print(f\"refinery {j+1}: {model.y[j].value}\")\n",
        "\n",
        "print(f\"total cost of refinery is {sum(refCost[0][j] * model.y[j].value for j in refineries)}\")\n",
        "print(f\"total cost of transport between wells to refineries {sum(transportCost[i][j] * model.x[i, j].value for i in wells for j in refineries)}\")\n",
        "print(f\"Total cost of distribution plan : {model.obj()}\")"
      ],
      "metadata": {
        "id": "euoLUn_K1OmJ"
      },
      "execution_count": null,
      "outputs": []
    }
  ]
}