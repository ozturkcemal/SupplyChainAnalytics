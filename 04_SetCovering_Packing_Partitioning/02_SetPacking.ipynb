{
  "nbformat": 4,
  "nbformat_minor": 0,
  "metadata": {
    "colab": {
      "provenance": [],
      "authorship_tag": "ABX9TyMWCdlxhkB9BZizPKzwi0A+",
      "include_colab_link": true
    },
    "kernelspec": {
      "name": "python3",
      "display_name": "Python 3"
    },
    "language_info": {
      "name": "python"
    }
  },
  "cells": [
    {
      "cell_type": "markdown",
      "metadata": {
        "id": "view-in-github",
        "colab_type": "text"
      },
      "source": [
        "<a href=\"https://colab.research.google.com/github/ozturkcemal/SupplyChainAnalytics/blob/main/04_SetCovering_Packing_Partitioning/01_SetPacking.ipynb\" target=\"_parent\"><img src=\"https://colab.research.google.com/assets/colab-badge.svg\" alt=\"Open In Colab\"/></a>"
      ]
    },
    {
      "cell_type": "code",
      "execution_count": 36,
      "metadata": {
        "colab": {
          "base_uri": "https://localhost:8080/"
        },
        "id": "en5DRZ41jko9",
        "outputId": "5db21ac7-4b38-4714-cda4-dda82c2ad74f"
      },
      "outputs": [
        {
          "output_type": "stream",
          "name": "stdout",
          "text": [
            "Requirement already satisfied: pandas in /usr/local/lib/python3.10/dist-packages (2.2.2)\n",
            "Requirement already satisfied: openpyxl in /usr/local/lib/python3.10/dist-packages (3.1.5)\n",
            "Requirement already satisfied: numpy>=1.22.4 in /usr/local/lib/python3.10/dist-packages (from pandas) (1.26.4)\n",
            "Requirement already satisfied: python-dateutil>=2.8.2 in /usr/local/lib/python3.10/dist-packages (from pandas) (2.8.2)\n",
            "Requirement already satisfied: pytz>=2020.1 in /usr/local/lib/python3.10/dist-packages (from pandas) (2024.2)\n",
            "Requirement already satisfied: tzdata>=2022.7 in /usr/local/lib/python3.10/dist-packages (from pandas) (2024.2)\n",
            "Requirement already satisfied: et-xmlfile in /usr/local/lib/python3.10/dist-packages (from openpyxl) (2.0.0)\n",
            "Requirement already satisfied: six>=1.5 in /usr/local/lib/python3.10/dist-packages (from python-dateutil>=2.8.2->pandas) (1.16.0)\n"
          ]
        }
      ],
      "source": [
        "#installing library to read xlsx files\n",
        "!pip install pandas openpyxl"
      ]
    },
    {
      "cell_type": "code",
      "source": [
        "from google.colab import files\n",
        "uploaded = files.upload()"
      ],
      "metadata": {
        "colab": {
          "base_uri": "https://localhost:8080/",
          "height": 109
        },
        "id": "tCnyZCCpkGk_",
        "outputId": "27887780-e4f1-4473-e6f4-edf250d6a9ca"
      },
      "execution_count": 37,
      "outputs": [
        {
          "output_type": "display_data",
          "data": {
            "text/plain": [
              "<IPython.core.display.HTML object>"
            ],
            "text/html": [
              "\n",
              "     <input type=\"file\" id=\"files-fb539ac7-78dd-4e37-8de6-1eed8fe86aa7\" name=\"files[]\" multiple disabled\n",
              "        style=\"border:none\" />\n",
              "     <output id=\"result-fb539ac7-78dd-4e37-8de6-1eed8fe86aa7\">\n",
              "      Upload widget is only available when the cell has been executed in the\n",
              "      current browser session. Please rerun this cell to enable.\n",
              "      </output>\n",
              "      <script>// Copyright 2017 Google LLC\n",
              "//\n",
              "// Licensed under the Apache License, Version 2.0 (the \"License\");\n",
              "// you may not use this file except in compliance with the License.\n",
              "// You may obtain a copy of the License at\n",
              "//\n",
              "//      http://www.apache.org/licenses/LICENSE-2.0\n",
              "//\n",
              "// Unless required by applicable law or agreed to in writing, software\n",
              "// distributed under the License is distributed on an \"AS IS\" BASIS,\n",
              "// WITHOUT WARRANTIES OR CONDITIONS OF ANY KIND, either express or implied.\n",
              "// See the License for the specific language governing permissions and\n",
              "// limitations under the License.\n",
              "\n",
              "/**\n",
              " * @fileoverview Helpers for google.colab Python module.\n",
              " */\n",
              "(function(scope) {\n",
              "function span(text, styleAttributes = {}) {\n",
              "  const element = document.createElement('span');\n",
              "  element.textContent = text;\n",
              "  for (const key of Object.keys(styleAttributes)) {\n",
              "    element.style[key] = styleAttributes[key];\n",
              "  }\n",
              "  return element;\n",
              "}\n",
              "\n",
              "// Max number of bytes which will be uploaded at a time.\n",
              "const MAX_PAYLOAD_SIZE = 100 * 1024;\n",
              "\n",
              "function _uploadFiles(inputId, outputId) {\n",
              "  const steps = uploadFilesStep(inputId, outputId);\n",
              "  const outputElement = document.getElementById(outputId);\n",
              "  // Cache steps on the outputElement to make it available for the next call\n",
              "  // to uploadFilesContinue from Python.\n",
              "  outputElement.steps = steps;\n",
              "\n",
              "  return _uploadFilesContinue(outputId);\n",
              "}\n",
              "\n",
              "// This is roughly an async generator (not supported in the browser yet),\n",
              "// where there are multiple asynchronous steps and the Python side is going\n",
              "// to poll for completion of each step.\n",
              "// This uses a Promise to block the python side on completion of each step,\n",
              "// then passes the result of the previous step as the input to the next step.\n",
              "function _uploadFilesContinue(outputId) {\n",
              "  const outputElement = document.getElementById(outputId);\n",
              "  const steps = outputElement.steps;\n",
              "\n",
              "  const next = steps.next(outputElement.lastPromiseValue);\n",
              "  return Promise.resolve(next.value.promise).then((value) => {\n",
              "    // Cache the last promise value to make it available to the next\n",
              "    // step of the generator.\n",
              "    outputElement.lastPromiseValue = value;\n",
              "    return next.value.response;\n",
              "  });\n",
              "}\n",
              "\n",
              "/**\n",
              " * Generator function which is called between each async step of the upload\n",
              " * process.\n",
              " * @param {string} inputId Element ID of the input file picker element.\n",
              " * @param {string} outputId Element ID of the output display.\n",
              " * @return {!Iterable<!Object>} Iterable of next steps.\n",
              " */\n",
              "function* uploadFilesStep(inputId, outputId) {\n",
              "  const inputElement = document.getElementById(inputId);\n",
              "  inputElement.disabled = false;\n",
              "\n",
              "  const outputElement = document.getElementById(outputId);\n",
              "  outputElement.innerHTML = '';\n",
              "\n",
              "  const pickedPromise = new Promise((resolve) => {\n",
              "    inputElement.addEventListener('change', (e) => {\n",
              "      resolve(e.target.files);\n",
              "    });\n",
              "  });\n",
              "\n",
              "  const cancel = document.createElement('button');\n",
              "  inputElement.parentElement.appendChild(cancel);\n",
              "  cancel.textContent = 'Cancel upload';\n",
              "  const cancelPromise = new Promise((resolve) => {\n",
              "    cancel.onclick = () => {\n",
              "      resolve(null);\n",
              "    };\n",
              "  });\n",
              "\n",
              "  // Wait for the user to pick the files.\n",
              "  const files = yield {\n",
              "    promise: Promise.race([pickedPromise, cancelPromise]),\n",
              "    response: {\n",
              "      action: 'starting',\n",
              "    }\n",
              "  };\n",
              "\n",
              "  cancel.remove();\n",
              "\n",
              "  // Disable the input element since further picks are not allowed.\n",
              "  inputElement.disabled = true;\n",
              "\n",
              "  if (!files) {\n",
              "    return {\n",
              "      response: {\n",
              "        action: 'complete',\n",
              "      }\n",
              "    };\n",
              "  }\n",
              "\n",
              "  for (const file of files) {\n",
              "    const li = document.createElement('li');\n",
              "    li.append(span(file.name, {fontWeight: 'bold'}));\n",
              "    li.append(span(\n",
              "        `(${file.type || 'n/a'}) - ${file.size} bytes, ` +\n",
              "        `last modified: ${\n",
              "            file.lastModifiedDate ? file.lastModifiedDate.toLocaleDateString() :\n",
              "                                    'n/a'} - `));\n",
              "    const percent = span('0% done');\n",
              "    li.appendChild(percent);\n",
              "\n",
              "    outputElement.appendChild(li);\n",
              "\n",
              "    const fileDataPromise = new Promise((resolve) => {\n",
              "      const reader = new FileReader();\n",
              "      reader.onload = (e) => {\n",
              "        resolve(e.target.result);\n",
              "      };\n",
              "      reader.readAsArrayBuffer(file);\n",
              "    });\n",
              "    // Wait for the data to be ready.\n",
              "    let fileData = yield {\n",
              "      promise: fileDataPromise,\n",
              "      response: {\n",
              "        action: 'continue',\n",
              "      }\n",
              "    };\n",
              "\n",
              "    // Use a chunked sending to avoid message size limits. See b/62115660.\n",
              "    let position = 0;\n",
              "    do {\n",
              "      const length = Math.min(fileData.byteLength - position, MAX_PAYLOAD_SIZE);\n",
              "      const chunk = new Uint8Array(fileData, position, length);\n",
              "      position += length;\n",
              "\n",
              "      const base64 = btoa(String.fromCharCode.apply(null, chunk));\n",
              "      yield {\n",
              "        response: {\n",
              "          action: 'append',\n",
              "          file: file.name,\n",
              "          data: base64,\n",
              "        },\n",
              "      };\n",
              "\n",
              "      let percentDone = fileData.byteLength === 0 ?\n",
              "          100 :\n",
              "          Math.round((position / fileData.byteLength) * 100);\n",
              "      percent.textContent = `${percentDone}% done`;\n",
              "\n",
              "    } while (position < fileData.byteLength);\n",
              "  }\n",
              "\n",
              "  // All done.\n",
              "  yield {\n",
              "    response: {\n",
              "      action: 'complete',\n",
              "    }\n",
              "  };\n",
              "}\n",
              "\n",
              "scope.google = scope.google || {};\n",
              "scope.google.colab = scope.google.colab || {};\n",
              "scope.google.colab._files = {\n",
              "  _uploadFiles,\n",
              "  _uploadFilesContinue,\n",
              "};\n",
              "})(self);\n",
              "</script> "
            ]
          },
          "metadata": {}
        },
        {
          "output_type": "stream",
          "name": "stdout",
          "text": [
            "Saving cost.xlsx to cost (1).xlsx\n",
            "Saving input.xlsx to input (1).xlsx\n"
          ]
        }
      ]
    },
    {
      "cell_type": "code",
      "source": [
        "import pandas as pd\n",
        "\n",
        "# Read the data from the Excel file, specifying the correct header row\n",
        "df = pd.read_excel('input.xlsx', header=1)  # This assumes the second row (index 1) is your header\n",
        "\n",
        "# Drop the 'Sites' column, as requested\n",
        "df = df.loc[:, df.columns != 'Sites']\n",
        "\n",
        "# Print the cleaned dataframe\n",
        "print(df.to_string())\n",
        "\n",
        "\n",
        "# Read the data from the Excel file, specifying the correct header row\n",
        "df2 = pd.read_excel('cost.xlsx')  # This assumes the second row (index 1) is your header\n",
        "\n",
        "# Drop the 'District' column, as requested\n",
        "df2 = df2.loc[:, df2.columns != 'District']\n",
        "\n",
        "# Print the cleaned dataframe\n",
        "print(df2.to_string())"
      ],
      "metadata": {
        "colab": {
          "base_uri": "https://localhost:8080/"
        },
        "id": "M4jsgsCUkWwP",
        "outputId": "d55584ab-814b-4185-f261-24860271189c"
      },
      "execution_count": 38,
      "outputs": [
        {
          "output_type": "stream",
          "name": "stdout",
          "text": [
            "   1  2  3  4  5  6  7  8  9  10  11  12  13  14  15  16  17  18  19  20\n",
            "0  0  1  1  0  0  0  0  0  0   0   0   0   0   0   0   0   0   0   0   0\n",
            "1  1  1  0  0  0  1  1  0  0   0   0   0   0   0   0   0   0   0   0   0\n",
            "2  0  0  1  1  1  0  0  1  0   0   0   0   0   0   0   0   0   0   0   0\n",
            "3  0  0  0  0  0  0  1  1  0   1   1   1   1   0   0   0   0   0   0   0\n",
            "4  0  0  0  0  0  0  0  0  0   0   1   1   1   0   0   1   1   0   0   0\n",
            "5  0  0  0  0  0  0  0  0  0   1   0   1   0   0   1   1   0   0   0   0\n",
            "6  0  0  0  0  0  0  0  0  0   0   0   0   1   0   0   0   1   0   0   0\n",
            "7  0  0  0  0  0  0  0  0  1   0   0   0   0   1   0   0   0   1   0   0\n",
            "8  0  0  0  0  0  0  0  0  0   0   0   0   0   1   1   0   0   1   1   0\n",
            "9  0  0  0  0  0  0  0  0  0   0   0   0   0   0   0   0   1   0   1   1\n",
            "    Cost\n",
            "0    5.2\n",
            "1    4.4\n",
            "2    7.1\n",
            "3    9.0\n",
            "4    6.1\n",
            "5    5.7\n",
            "6   10.0\n",
            "7   12.2\n",
            "8    7.6\n",
            "9   20.3\n",
            "10  30.4\n",
            "11  30.9\n",
            "12  12.0\n",
            "13   9.3\n",
            "14  15.5\n",
            "15  25.6\n",
            "16  11.0\n",
            "17   5.3\n",
            "18   7.9\n",
            "19   9.9\n"
          ]
        }
      ]
    },
    {
      "cell_type": "code",
      "source": [
        "# Create a list 'sites' with numbers from 0 to the number of rows in the dataframe\n",
        "sites = list(range(0, len(df)))\n",
        "# Print the list 'sites' to verify\n",
        "print(\"sites\",sites)\n",
        "# Create a list 'districts' with numbers from 0 to the number of columns in the dataframe\n",
        "districts = list(range(0, len(df.columns)))\n",
        "# Print the list 'districts' to verify\n",
        "print(\"districts:\",districts)\n",
        "# Export the dataframe to a CSV file and open it in an editor\n",
        "#df.to_csv('output.csv')"
      ],
      "metadata": {
        "colab": {
          "base_uri": "https://localhost:8080/"
        },
        "id": "9Vd-Eo8Zpmyf",
        "outputId": "afdfb2fc-1f1e-4706-c135-f900655f3d3e"
      },
      "execution_count": 39,
      "outputs": [
        {
          "output_type": "stream",
          "name": "stdout",
          "text": [
            "sites [0, 1, 2, 3, 4, 5, 6, 7, 8, 9]\n",
            "districts: [0, 1, 2, 3, 4, 5, 6, 7, 8, 9, 10, 11, 12, 13, 14, 15, 16, 17, 18, 19]\n"
          ]
        }
      ]
    },
    {
      "cell_type": "code",
      "source": [
        "#preparing the cost array and populating\n",
        "cost=np.zeros(len(districts),dtype=float)\n",
        "for j in range(len(districts)):\n",
        "  cost[j]=df2.iloc[j,0]\n",
        "print(\"cost\",cost)\n",
        "\n",
        "\n",
        "# Create the 'cover' array with the same shape as the dataframe\n",
        "cover = np.zeros((len(sites), len(districts)), dtype=int)\n",
        "\n",
        "# Iterate through the dataframe to fill the 'cover' array\n",
        "for i in range(len(sites)):\n",
        "    for j in range(len(districts)):\n",
        "        cover[i][j] = df.iloc[i, j]  # Get the value from the dataframe and assign it to the cover array\n",
        "\n",
        "# Print the 'cover' array to verify\n",
        "print(\"cover array:\")\n",
        "print(cover)"
      ],
      "metadata": {
        "colab": {
          "base_uri": "https://localhost:8080/"
        },
        "id": "fLhPgdfMyV29",
        "outputId": "26284ae7-95fb-4fdc-db2a-b1ab4fc81073"
      },
      "execution_count": 40,
      "outputs": [
        {
          "output_type": "stream",
          "name": "stdout",
          "text": [
            "cost [ 5.2  4.4  7.1  9.   6.1  5.7 10.  12.2  7.6 20.3 30.4 30.9 12.   9.3\n",
            " 15.5 25.6 11.   5.3  7.9  9.9]\n",
            "cover array:\n",
            "[[0 1 1 0 0 0 0 0 0 0 0 0 0 0 0 0 0 0 0 0]\n",
            " [1 1 0 0 0 1 1 0 0 0 0 0 0 0 0 0 0 0 0 0]\n",
            " [0 0 1 1 1 0 0 1 0 0 0 0 0 0 0 0 0 0 0 0]\n",
            " [0 0 0 0 0 0 1 1 0 1 1 1 1 0 0 0 0 0 0 0]\n",
            " [0 0 0 0 0 0 0 0 0 0 1 1 1 0 0 1 1 0 0 0]\n",
            " [0 0 0 0 0 0 0 0 0 1 0 1 0 0 1 1 0 0 0 0]\n",
            " [0 0 0 0 0 0 0 0 0 0 0 0 1 0 0 0 1 0 0 0]\n",
            " [0 0 0 0 0 0 0 0 1 0 0 0 0 1 0 0 0 1 0 0]\n",
            " [0 0 0 0 0 0 0 0 0 0 0 0 0 1 1 0 0 1 1 0]\n",
            " [0 0 0 0 0 0 0 0 0 0 0 0 0 0 0 0 1 0 1 1]]\n"
          ]
        }
      ]
    },
    {
      "cell_type": "code",
      "source": [
        "#installing pyomo\n",
        "!pip install -q pyomo"
      ],
      "metadata": {
        "id": "KjLUS5ABywRu"
      },
      "execution_count": 41,
      "outputs": []
    },
    {
      "cell_type": "code",
      "source": [
        "#installing coin or\n",
        "!apt-get install -y -qq coinor-cbc"
      ],
      "metadata": {
        "id": "fTef0yo1y2E1"
      },
      "execution_count": 42,
      "outputs": []
    },
    {
      "cell_type": "code",
      "source": [
        "#importing pyomo environment\n",
        "import pyomo.environ as pyo"
      ],
      "metadata": {
        "id": "XSmcs5ibXm7b"
      },
      "execution_count": 43,
      "outputs": []
    },
    {
      "cell_type": "code",
      "source": [
        "#creating a model object\n",
        "model = pyo.ConcreteModel()"
      ],
      "metadata": {
        "collapsed": true,
        "id": "M7D5CgmFaYN_"
      },
      "execution_count": 44,
      "outputs": []
    },
    {
      "cell_type": "code",
      "source": [
        "#defining variables\n",
        "model.x = pyo.Var(sites, within=pyo.Binary)\n",
        "model.y = pyo.Var(districts, within=pyo.Binary)\n",
        "model.x.pprint()\n",
        "model.y.pprint()"
      ],
      "metadata": {
        "colab": {
          "base_uri": "https://localhost:8080/"
        },
        "id": "4SfpB2wAzGCV",
        "outputId": "61f4fe10-4d7a-4125-a1df-02bfcd3056e7"
      },
      "execution_count": 45,
      "outputs": [
        {
          "output_type": "stream",
          "name": "stdout",
          "text": [
            "x : Size=10, Index={0, 1, 2, 3, 4, 5, 6, 7, 8, 9}\n",
            "    Key : Lower : Value : Upper : Fixed : Stale : Domain\n",
            "      0 :     0 :  None :     1 : False :  True : Binary\n",
            "      1 :     0 :  None :     1 : False :  True : Binary\n",
            "      2 :     0 :  None :     1 : False :  True : Binary\n",
            "      3 :     0 :  None :     1 : False :  True : Binary\n",
            "      4 :     0 :  None :     1 : False :  True : Binary\n",
            "      5 :     0 :  None :     1 : False :  True : Binary\n",
            "      6 :     0 :  None :     1 : False :  True : Binary\n",
            "      7 :     0 :  None :     1 : False :  True : Binary\n",
            "      8 :     0 :  None :     1 : False :  True : Binary\n",
            "      9 :     0 :  None :     1 : False :  True : Binary\n",
            "y : Size=20, Index={0, 1, 2, 3, 4, 5, 6, 7, 8, 9, 10, 11, 12, 13, 14, 15, 16, 17, 18, 19}\n",
            "    Key : Lower : Value : Upper : Fixed : Stale : Domain\n",
            "      0 :     0 :  None :     1 : False :  True : Binary\n",
            "      1 :     0 :  None :     1 : False :  True : Binary\n",
            "      2 :     0 :  None :     1 : False :  True : Binary\n",
            "      3 :     0 :  None :     1 : False :  True : Binary\n",
            "      4 :     0 :  None :     1 : False :  True : Binary\n",
            "      5 :     0 :  None :     1 : False :  True : Binary\n",
            "      6 :     0 :  None :     1 : False :  True : Binary\n",
            "      7 :     0 :  None :     1 : False :  True : Binary\n",
            "      8 :     0 :  None :     1 : False :  True : Binary\n",
            "      9 :     0 :  None :     1 : False :  True : Binary\n",
            "     10 :     0 :  None :     1 : False :  True : Binary\n",
            "     11 :     0 :  None :     1 : False :  True : Binary\n",
            "     12 :     0 :  None :     1 : False :  True : Binary\n",
            "     13 :     0 :  None :     1 : False :  True : Binary\n",
            "     14 :     0 :  None :     1 : False :  True : Binary\n",
            "     15 :     0 :  None :     1 : False :  True : Binary\n",
            "     16 :     0 :  None :     1 : False :  True : Binary\n",
            "     17 :     0 :  None :     1 : False :  True : Binary\n",
            "     18 :     0 :  None :     1 : False :  True : Binary\n",
            "     19 :     0 :  None :     1 : False :  True : Binary\n"
          ]
        }
      ]
    },
    {
      "cell_type": "code",
      "source": [
        "# Remove any existing objective component named \"obj\"\n",
        "if hasattr(model, 'obj'):\n",
        "    model.del_component('obj')\n",
        "\n",
        "#defining objective function\n",
        "model.obj = pyo.Objective(\n",
        "    expr = sum(cost[j]*model.y[j] for j in districts),\n",
        "    sense = pyo.minimize )\n",
        "model.obj.pprint()"
      ],
      "metadata": {
        "colab": {
          "base_uri": "https://localhost:8080/"
        },
        "id": "rL14K3p_zkkD",
        "outputId": "621af85f-e32c-40f2-85a8-2e6f3ed739f6"
      },
      "execution_count": 46,
      "outputs": [
        {
          "output_type": "stream",
          "name": "stdout",
          "text": [
            "obj : Size=1, Index=None, Active=True\n",
            "    Key  : Active : Sense    : Expression\n",
            "    None :   True : minimize : 5.2*y[0] + 4.4*y[1] + 7.1*y[2] + 9.0*y[3] + 6.1*y[4] + 5.7*y[5] + 10.0*y[6] + 12.2*y[7] + 7.6*y[8] + 20.3*y[9] + 30.4*y[10] + 30.9*y[11] + 12.0*y[12] + 9.3*y[13] + 15.5*y[14] + 25.6*y[15] + 11.0*y[16] + 5.3*y[17] + 7.9*y[18] + 9.9*y[19]\n"
          ]
        }
      ]
    },
    {
      "cell_type": "code",
      "source": [
        "#modeling the coverage constraints\n",
        "model.constraint_coverage = pyo.ConstraintList()\n",
        "for j in districts:\n",
        "  model.constraint_coverage.add(sum(model.x[i] for i in sites if cover[i][j]>0)+model.y[j] >=1)\n",
        "model.constraint_coverage.pprint()"
      ],
      "metadata": {
        "colab": {
          "base_uri": "https://localhost:8080/"
        },
        "id": "2anrtJKkzt5q",
        "outputId": "da681560-ff42-4695-c740-cf8835a5673f"
      },
      "execution_count": 47,
      "outputs": [
        {
          "output_type": "stream",
          "name": "stdout",
          "text": [
            "constraint_coverage : Size=20, Index={1, 2, 3, 4, 5, 6, 7, 8, 9, 10, 11, 12, 13, 14, 15, 16, 17, 18, 19, 20}, Active=True\n",
            "    Key : Lower : Body                       : Upper : Active\n",
            "      1 :   1.0 :                x[1] + y[0] :  +Inf :   True\n",
            "      2 :   1.0 :         x[0] + x[1] + y[1] :  +Inf :   True\n",
            "      3 :   1.0 :         x[0] + x[2] + y[2] :  +Inf :   True\n",
            "      4 :   1.0 :                x[2] + y[3] :  +Inf :   True\n",
            "      5 :   1.0 :                x[2] + y[4] :  +Inf :   True\n",
            "      6 :   1.0 :                x[1] + y[5] :  +Inf :   True\n",
            "      7 :   1.0 :         x[1] + x[3] + y[6] :  +Inf :   True\n",
            "      8 :   1.0 :         x[2] + x[3] + y[7] :  +Inf :   True\n",
            "      9 :   1.0 :                x[7] + y[8] :  +Inf :   True\n",
            "     10 :   1.0 :         x[3] + x[5] + y[9] :  +Inf :   True\n",
            "     11 :   1.0 :        x[3] + x[4] + y[10] :  +Inf :   True\n",
            "     12 :   1.0 : x[3] + x[4] + x[5] + y[11] :  +Inf :   True\n",
            "     13 :   1.0 : x[3] + x[4] + x[6] + y[12] :  +Inf :   True\n",
            "     14 :   1.0 :        x[7] + x[8] + y[13] :  +Inf :   True\n",
            "     15 :   1.0 :        x[5] + x[8] + y[14] :  +Inf :   True\n",
            "     16 :   1.0 :        x[4] + x[5] + y[15] :  +Inf :   True\n",
            "     17 :   1.0 : x[4] + x[6] + x[9] + y[16] :  +Inf :   True\n",
            "     18 :   1.0 :        x[7] + x[8] + y[17] :  +Inf :   True\n",
            "     19 :   1.0 :        x[8] + x[9] + y[18] :  +Inf :   True\n",
            "     20 :   1.0 :               x[9] + y[19] :  +Inf :   True\n"
          ]
        }
      ]
    },
    {
      "cell_type": "code",
      "source": [
        "model.constraint_packing = pyo.ConstraintList()\n",
        "model.constraint_packing.add(sum(model.x[i] for i in sites)<=4)\n",
        "model.constraint_packing.pprint()"
      ],
      "metadata": {
        "colab": {
          "base_uri": "https://localhost:8080/"
        },
        "id": "ui_GrkVtAikb",
        "outputId": "ef0c0c68-280d-4e50-f9c1-03d14aa53600"
      },
      "execution_count": 48,
      "outputs": [
        {
          "output_type": "stream",
          "name": "stdout",
          "text": [
            "constraint_packing : Size=1, Index={1}, Active=True\n",
            "    Key : Lower : Body                                                                : Upper : Active\n",
            "      1 :  -Inf : x[0] + x[1] + x[2] + x[3] + x[4] + x[5] + x[6] + x[7] + x[8] + x[9] :   4.0 :   True\n"
          ]
        }
      ]
    },
    {
      "cell_type": "code",
      "source": [
        "#connecting cbc solver and printing the model\n",
        "opt = pyo.SolverFactory('cbc')\n",
        "model.pprint()"
      ],
      "metadata": {
        "colab": {
          "base_uri": "https://localhost:8080/"
        },
        "id": "FFnZQFwz0-9M",
        "outputId": "f18750e0-f06c-436d-96ef-e2115716e04c"
      },
      "execution_count": 49,
      "outputs": [
        {
          "output_type": "stream",
          "name": "stdout",
          "text": [
            "2 Var Declarations\n",
            "    x : Size=10, Index={0, 1, 2, 3, 4, 5, 6, 7, 8, 9}\n",
            "        Key : Lower : Value : Upper : Fixed : Stale : Domain\n",
            "          0 :     0 :  None :     1 : False :  True : Binary\n",
            "          1 :     0 :  None :     1 : False :  True : Binary\n",
            "          2 :     0 :  None :     1 : False :  True : Binary\n",
            "          3 :     0 :  None :     1 : False :  True : Binary\n",
            "          4 :     0 :  None :     1 : False :  True : Binary\n",
            "          5 :     0 :  None :     1 : False :  True : Binary\n",
            "          6 :     0 :  None :     1 : False :  True : Binary\n",
            "          7 :     0 :  None :     1 : False :  True : Binary\n",
            "          8 :     0 :  None :     1 : False :  True : Binary\n",
            "          9 :     0 :  None :     1 : False :  True : Binary\n",
            "    y : Size=20, Index={0, 1, 2, 3, 4, 5, 6, 7, 8, 9, 10, 11, 12, 13, 14, 15, 16, 17, 18, 19}\n",
            "        Key : Lower : Value : Upper : Fixed : Stale : Domain\n",
            "          0 :     0 :  None :     1 : False :  True : Binary\n",
            "          1 :     0 :  None :     1 : False :  True : Binary\n",
            "          2 :     0 :  None :     1 : False :  True : Binary\n",
            "          3 :     0 :  None :     1 : False :  True : Binary\n",
            "          4 :     0 :  None :     1 : False :  True : Binary\n",
            "          5 :     0 :  None :     1 : False :  True : Binary\n",
            "          6 :     0 :  None :     1 : False :  True : Binary\n",
            "          7 :     0 :  None :     1 : False :  True : Binary\n",
            "          8 :     0 :  None :     1 : False :  True : Binary\n",
            "          9 :     0 :  None :     1 : False :  True : Binary\n",
            "         10 :     0 :  None :     1 : False :  True : Binary\n",
            "         11 :     0 :  None :     1 : False :  True : Binary\n",
            "         12 :     0 :  None :     1 : False :  True : Binary\n",
            "         13 :     0 :  None :     1 : False :  True : Binary\n",
            "         14 :     0 :  None :     1 : False :  True : Binary\n",
            "         15 :     0 :  None :     1 : False :  True : Binary\n",
            "         16 :     0 :  None :     1 : False :  True : Binary\n",
            "         17 :     0 :  None :     1 : False :  True : Binary\n",
            "         18 :     0 :  None :     1 : False :  True : Binary\n",
            "         19 :     0 :  None :     1 : False :  True : Binary\n",
            "\n",
            "1 Objective Declarations\n",
            "    obj : Size=1, Index=None, Active=True\n",
            "        Key  : Active : Sense    : Expression\n",
            "        None :   True : minimize : 5.2*y[0] + 4.4*y[1] + 7.1*y[2] + 9.0*y[3] + 6.1*y[4] + 5.7*y[5] + 10.0*y[6] + 12.2*y[7] + 7.6*y[8] + 20.3*y[9] + 30.4*y[10] + 30.9*y[11] + 12.0*y[12] + 9.3*y[13] + 15.5*y[14] + 25.6*y[15] + 11.0*y[16] + 5.3*y[17] + 7.9*y[18] + 9.9*y[19]\n",
            "\n",
            "2 Constraint Declarations\n",
            "    constraint_coverage : Size=20, Index={1, 2, 3, 4, 5, 6, 7, 8, 9, 10, 11, 12, 13, 14, 15, 16, 17, 18, 19, 20}, Active=True\n",
            "        Key : Lower : Body                       : Upper : Active\n",
            "          1 :   1.0 :                x[1] + y[0] :  +Inf :   True\n",
            "          2 :   1.0 :         x[0] + x[1] + y[1] :  +Inf :   True\n",
            "          3 :   1.0 :         x[0] + x[2] + y[2] :  +Inf :   True\n",
            "          4 :   1.0 :                x[2] + y[3] :  +Inf :   True\n",
            "          5 :   1.0 :                x[2] + y[4] :  +Inf :   True\n",
            "          6 :   1.0 :                x[1] + y[5] :  +Inf :   True\n",
            "          7 :   1.0 :         x[1] + x[3] + y[6] :  +Inf :   True\n",
            "          8 :   1.0 :         x[2] + x[3] + y[7] :  +Inf :   True\n",
            "          9 :   1.0 :                x[7] + y[8] :  +Inf :   True\n",
            "         10 :   1.0 :         x[3] + x[5] + y[9] :  +Inf :   True\n",
            "         11 :   1.0 :        x[3] + x[4] + y[10] :  +Inf :   True\n",
            "         12 :   1.0 : x[3] + x[4] + x[5] + y[11] :  +Inf :   True\n",
            "         13 :   1.0 : x[3] + x[4] + x[6] + y[12] :  +Inf :   True\n",
            "         14 :   1.0 :        x[7] + x[8] + y[13] :  +Inf :   True\n",
            "         15 :   1.0 :        x[5] + x[8] + y[14] :  +Inf :   True\n",
            "         16 :   1.0 :        x[4] + x[5] + y[15] :  +Inf :   True\n",
            "         17 :   1.0 : x[4] + x[6] + x[9] + y[16] :  +Inf :   True\n",
            "         18 :   1.0 :        x[7] + x[8] + y[17] :  +Inf :   True\n",
            "         19 :   1.0 :        x[8] + x[9] + y[18] :  +Inf :   True\n",
            "         20 :   1.0 :               x[9] + y[19] :  +Inf :   True\n",
            "    constraint_packing : Size=1, Index={1}, Active=True\n",
            "        Key : Lower : Body                                                                : Upper : Active\n",
            "          1 :  -Inf : x[0] + x[1] + x[2] + x[3] + x[4] + x[5] + x[6] + x[7] + x[8] + x[9] :   4.0 :   True\n",
            "\n",
            "5 Declarations: x y obj constraint_coverage constraint_packing\n"
          ]
        }
      ]
    },
    {
      "cell_type": "code",
      "source": [
        "#solve the model\n",
        "opt_solution = opt.solve(model)"
      ],
      "metadata": {
        "id": "-8VpT6rN1JGa"
      },
      "execution_count": 50,
      "outputs": []
    },
    {
      "cell_type": "code",
      "source": [
        "# Print the values of the decision variables\n",
        "#we are shifting the indices for presentation\n",
        "print(\"\\nEMS sites opening:\")\n",
        "for i in sites:\n",
        "    if model.x[i].value > 0:\n",
        "      print(f\"{i+1}: {model.x[i].value}\")\n",
        "\n",
        "print(\"\\nNot covered districts:\")\n",
        "for j in districts:\n",
        "    if model.y[j].value > 0:\n",
        "      print(f\"{j+1}: {model.y[j].value}\")\n",
        "\n",
        "print(f\"Total cost of uncovered districts: {model.obj()}\")"
      ],
      "metadata": {
        "colab": {
          "base_uri": "https://localhost:8080/"
        },
        "id": "euoLUn_K1OmJ",
        "outputId": "d68811ac-7aff-4992-8f04-d2c76ab7c3ad"
      },
      "execution_count": 51,
      "outputs": [
        {
          "output_type": "stream",
          "name": "stdout",
          "text": [
            "\n",
            "EMS sites opening:\n",
            "3: 1.0\n",
            "4: 1.0\n",
            "5: 1.0\n",
            "9: 1.0\n",
            "\n",
            "Not covered districts:\n",
            "1: 1.0\n",
            "2: 1.0\n",
            "6: 1.0\n",
            "9: 1.0\n",
            "20: 1.0\n",
            "Total cost of uncovered districts: 32.8\n"
          ]
        }
      ]
    }
  ]
}
