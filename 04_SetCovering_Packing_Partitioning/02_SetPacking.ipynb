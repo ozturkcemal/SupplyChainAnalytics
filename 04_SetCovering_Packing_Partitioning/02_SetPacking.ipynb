{
  "nbformat": 4,
  "nbformat_minor": 0,
  "metadata": {
    "colab": {
      "provenance": [],
      "authorship_tag": "ABX9TyMdoOyTXGH4IEo0vOCVNhGm",
      "include_colab_link": true
    },
    "kernelspec": {
      "name": "python3",
      "display_name": "Python 3"
    },
    "language_info": {
      "name": "python"
    }
  },
  "cells": [
    {
      "cell_type": "markdown",
      "metadata": {
        "id": "view-in-github",
        "colab_type": "text"
      },
      "source": [
        "<a href=\"https://colab.research.google.com/github/ozturkcemal/SupplyChainAnalytics/blob/main/04_SetCovering_Packing_Partitioning/02_SetPacking.ipynb\" target=\"_parent\"><img src=\"https://colab.research.google.com/assets/colab-badge.svg\" alt=\"Open In Colab\"/></a>"
      ]
    },
    {
      "cell_type": "code",
      "execution_count": null,
      "metadata": {
        "id": "en5DRZ41jko9"
      },
      "outputs": [],
      "source": [
        "#installing library to read xlsx files\n",
        "!pip install pandas openpyxl"
      ]
    },
    {
      "cell_type": "code",
      "source": [
        "from google.colab import files\n",
        "uploaded = files.upload()"
      ],
      "metadata": {
        "id": "tCnyZCCpkGk_"
      },
      "execution_count": null,
      "outputs": []
    },
    {
      "cell_type": "code",
      "source": [
        "import pandas as pd\n",
        "\n",
        "# Read the data from the Excel file, specifying the correct header row\n",
        "df = pd.read_excel('input.xlsx', header=1)  # This assumes the second row (index 1) is your header\n",
        "\n",
        "# Drop the 'Sites' column, as requested\n",
        "df = df.loc[:, df.columns != 'Sites']\n",
        "\n",
        "# Print the cleaned dataframe\n",
        "print(df.to_string())\n",
        "\n",
        "\n",
        "# Read the data from the Excel file, specifying the correct header row\n",
        "df2 = pd.read_excel('cost.xlsx')  # This assumes the second row (index 1) is your header\n",
        "\n",
        "# Drop the 'District' column, as requested\n",
        "df2 = df2.loc[:, df2.columns != 'District']\n",
        "\n",
        "# Print the cleaned dataframe\n",
        "print(df2.to_string())"
      ],
      "metadata": {
        "id": "M4jsgsCUkWwP"
      },
      "execution_count": null,
      "outputs": []
    },
    {
      "cell_type": "code",
      "source": [
        "# Create a list 'sites' with numbers from 0 to the number of rows in the dataframe\n",
        "sites = list(range(0, len(df)))\n",
        "# Print the list 'sites' to verify\n",
        "print(\"sites\",sites)\n",
        "# Create a list 'districts' with numbers from 0 to the number of columns in the dataframe\n",
        "districts = list(range(0, len(df.columns)))\n",
        "# Print the list 'districts' to verify\n",
        "print(\"districts:\",districts)\n",
        "# Export the dataframe to a CSV file and open it in an editor\n",
        "#df.to_csv('output.csv')"
      ],
      "metadata": {
        "id": "9Vd-Eo8Zpmyf"
      },
      "execution_count": null,
      "outputs": []
    },
    {
      "cell_type": "code",
      "source": [
        "import numpy as np\n",
        "#preparing the cost array and populating\n",
        "cost=np.zeros(len(districts),dtype=float)\n",
        "for j in range(len(districts)):\n",
        "  cost[j]=df2.iloc[j,0]\n",
        "print(\"cost\",cost)\n",
        "\n",
        "\n",
        "# Create the 'cover' array with the same shape as the dataframe\n",
        "cover = np.zeros((len(sites), len(districts)), dtype=int)\n",
        "\n",
        "# Iterate through the dataframe to fill the 'cover' array\n",
        "for i in range(len(sites)):\n",
        "    for j in range(len(districts)):\n",
        "        cover[i][j] = df.iloc[i, j]  # Get the value from the dataframe and assign it to the cover array\n",
        "\n",
        "# Print the 'cover' array to verify\n",
        "print(\"cover array:\")\n",
        "print(cover)"
      ],
      "metadata": {
        "id": "fLhPgdfMyV29"
      },
      "execution_count": null,
      "outputs": []
    },
    {
      "cell_type": "code",
      "source": [
        "#installing pyomo\n",
        "!pip install -q pyomo"
      ],
      "metadata": {
        "id": "KjLUS5ABywRu"
      },
      "execution_count": null,
      "outputs": []
    },
    {
      "cell_type": "code",
      "source": [
        "#installing coin or\n",
        "!apt-get install -y -qq coinor-cbc"
      ],
      "metadata": {
        "id": "fTef0yo1y2E1"
      },
      "execution_count": null,
      "outputs": []
    },
    {
      "cell_type": "code",
      "source": [
        "#importing pyomo environment\n",
        "import pyomo.environ as pyo"
      ],
      "metadata": {
        "id": "XSmcs5ibXm7b"
      },
      "execution_count": null,
      "outputs": []
    },
    {
      "cell_type": "code",
      "source": [
        "#creating a model object\n",
        "model = pyo.ConcreteModel()"
      ],
      "metadata": {
        "collapsed": true,
        "id": "M7D5CgmFaYN_"
      },
      "execution_count": null,
      "outputs": []
    },
    {
      "cell_type": "code",
      "source": [
        "#defining variables\n",
        "model.x = pyo.Var(sites, within=pyo.Binary)\n",
        "model.y = pyo.Var(districts, within=pyo.Binary)\n",
        "model.x.pprint()\n",
        "model.y.pprint()"
      ],
      "metadata": {
        "id": "4SfpB2wAzGCV"
      },
      "execution_count": null,
      "outputs": []
    },
    {
      "cell_type": "code",
      "source": [
        "# Remove any existing objective component named \"obj\"\n",
        "if hasattr(model, 'obj'):\n",
        "    model.del_component('obj')\n",
        "\n",
        "#defining objective function\n",
        "model.obj = pyo.Objective(\n",
        "    expr = sum(cost[j]*model.y[j] for j in districts),\n",
        "    sense = pyo.minimize )\n",
        "model.obj.pprint()"
      ],
      "metadata": {
        "id": "rL14K3p_zkkD"
      },
      "execution_count": null,
      "outputs": []
    },
    {
      "cell_type": "code",
      "source": [
        "#modeling the coverage constraints\n",
        "model.constraint_coverage = pyo.ConstraintList()\n",
        "for j in districts:\n",
        "  model.constraint_coverage.add(sum(model.x[i] for i in sites if cover[i][j]>0)+model.y[j] >=1)\n",
        "model.constraint_coverage.pprint()"
      ],
      "metadata": {
        "id": "2anrtJKkzt5q"
      },
      "execution_count": null,
      "outputs": []
    },
    {
      "cell_type": "code",
      "source": [
        "model.constraint_packing = pyo.ConstraintList()\n",
        "model.constraint_packing.add(sum(model.x[i] for i in sites)<=4)\n",
        "model.constraint_packing.pprint()"
      ],
      "metadata": {
        "id": "ui_GrkVtAikb"
      },
      "execution_count": null,
      "outputs": []
    },
    {
      "cell_type": "code",
      "source": [
        "#connecting cbc solver and printing the model\n",
        "opt = pyo.SolverFactory('cbc')\n",
        "model.pprint()"
      ],
      "metadata": {
        "id": "FFnZQFwz0-9M"
      },
      "execution_count": null,
      "outputs": []
    },
    {
      "cell_type": "code",
      "source": [
        "#solve the model\n",
        "opt_solution = opt.solve(model)"
      ],
      "metadata": {
        "id": "-8VpT6rN1JGa"
      },
      "execution_count": null,
      "outputs": []
    },
    {
      "cell_type": "code",
      "source": [
        "# Print the values of the decision variables\n",
        "#we are shifting the indices for presentation\n",
        "print(\"\\nEMS sites opening:\")\n",
        "for i in sites:\n",
        "    if model.x[i].value > 0:\n",
        "      print(f\"{i+1}: {model.x[i].value}\")\n",
        "\n",
        "print(\"\\nNot covered districts:\")\n",
        "for j in districts:\n",
        "    if model.y[j].value > 0:\n",
        "      print(f\"{j+1}: {model.y[j].value}\")\n",
        "\n",
        "print(f\"Total cost of uncovered districts: {model.obj()}\")"
      ],
      "metadata": {
        "id": "euoLUn_K1OmJ"
      },
      "execution_count": null,
      "outputs": []
    }
  ]
}