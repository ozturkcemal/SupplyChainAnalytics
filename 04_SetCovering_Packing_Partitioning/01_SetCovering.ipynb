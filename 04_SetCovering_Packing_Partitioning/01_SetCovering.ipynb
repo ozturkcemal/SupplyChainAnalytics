{
  "nbformat": 4,
  "nbformat_minor": 0,
  "metadata": {
    "colab": {
      "provenance": [],
      "authorship_tag": "ABX9TyMR3I1Xk9vFHfash0WByknI",
      "include_colab_link": true
    },
    "kernelspec": {
      "name": "python3",
      "display_name": "Python 3"
    },
    "language_info": {
      "name": "python"
    }
  },
  "cells": [
    {
      "cell_type": "markdown",
      "metadata": {
        "id": "view-in-github",
        "colab_type": "text"
      },
      "source": [
        "<a href=\"https://colab.research.google.com/github/ozturkcemal/SupplyChainAnalytics/blob/main/04_SetCovering_Packing_Partitioning/01_SetCovering.ipynb\" target=\"_parent\"><img src=\"https://colab.research.google.com/assets/colab-badge.svg\" alt=\"Open In Colab\"/></a>"
      ]
    },
    {
      "cell_type": "code",
      "execution_count": null,
      "metadata": {
        "id": "en5DRZ41jko9"
      },
      "outputs": [],
      "source": [
        "#installing library to read xlsx files\n",
        "!pip install pandas openpyxl"
      ]
    },
    {
      "cell_type": "code",
      "source": [
        "from google.colab import files\n",
        "uploaded = files.upload()"
      ],
      "metadata": {
        "id": "tCnyZCCpkGk_"
      },
      "execution_count": null,
      "outputs": []
    },
    {
      "cell_type": "code",
      "source": [
        "import pandas as pd\n",
        "\n",
        "# Read the data from the Excel file, specifying the correct header row\n",
        "df = pd.read_excel('input.xlsx', header=1)  # This assumes the second row (index 1) is your header\n",
        "\n",
        "# Drop the 'Sites' column, as requested\n",
        "df = df.loc[:, df.columns != 'Sites']\n",
        "\n",
        "# Print the cleaned dataframe\n",
        "print(df.to_string())"
      ],
      "metadata": {
        "id": "M4jsgsCUkWwP"
      },
      "execution_count": null,
      "outputs": []
    },
    {
      "cell_type": "code",
      "source": [
        "# Create a list 'sites' with numbers from 0 to the number of rows in the dataframe\n",
        "sites = list(range(0, len(df)))\n",
        "# Print the list 'sites' to verify\n",
        "print(\"sites\",sites)\n",
        "# Create a list 'districts' with numbers from 0 to the number of columns in the dataframe\n",
        "districts = list(range(0, len(df.columns)))\n",
        "# Print the list 'districts' to verify\n",
        "print(\"districts:\",districts)\n",
        "# Export the dataframe to a CSV file and open it in an editor\n",
        "#df.to_csv('output.csv')"
      ],
      "metadata": {
        "colab": {
          "base_uri": "https://localhost:8080/"
        },
        "id": "9Vd-Eo8Zpmyf",
        "outputId": "7c4a028c-a0e7-418e-88fa-dc6470a713e5"
      },
      "execution_count": 55,
      "outputs": [
        {
          "output_type": "stream",
          "name": "stdout",
          "text": [
            "sites [0, 1, 2, 3, 4, 5, 6, 7, 8, 9]\n",
            "districts: [0, 1, 2, 3, 4, 5, 6, 7, 8, 9, 10, 11, 12, 13, 14, 15, 16, 17, 18, 19]\n"
          ]
        }
      ]
    },
    {
      "cell_type": "code",
      "source": [
        "import numpy as np\n",
        "\n",
        "# Create the 'cover' array with the same shape as the dataframe\n",
        "cover = np.zeros((len(sites), len(districts)), dtype=int)\n",
        "\n",
        "# Iterate through the dataframe to fill the 'cover' array\n",
        "for i in range(len(sites)):\n",
        "    for j in range(len(districts)):\n",
        "        cover[i][j] = df.iloc[i, j]  # Get the value from the dataframe and assign it to the cover array\n",
        "\n",
        "# Print the 'cover' array to verify\n",
        "print(\"cover array:\")\n",
        "print(cover)"
      ],
      "metadata": {
        "id": "fLhPgdfMyV29"
      },
      "execution_count": null,
      "outputs": []
    },
    {
      "cell_type": "code",
      "source": [
        "!pip install -q pyomo"
      ],
      "metadata": {
        "colab": {
          "base_uri": "https://localhost:8080/"
        },
        "id": "KjLUS5ABywRu",
        "outputId": "a9750fa8-c052-44e7-9c99-dc23be607fab"
      },
      "execution_count": 58,
      "outputs": [
        {
          "output_type": "stream",
          "name": "stdout",
          "text": [
            "\u001b[?25l   \u001b[90m━━━━━━━━━━━━━━━━━━━━━━━━━━━━━━━━━━━━━━━━\u001b[0m \u001b[32m0.0/13.3 MB\u001b[0m \u001b[31m?\u001b[0m eta \u001b[36m-:--:--\u001b[0m\r\u001b[2K   \u001b[91m━━━━━━━━━━━━━━\u001b[0m\u001b[90m╺\u001b[0m\u001b[90m━━━━━━━━━━━━━━━━━━━━━━━━━\u001b[0m \u001b[32m4.8/13.3 MB\u001b[0m \u001b[31m144.7 MB/s\u001b[0m eta \u001b[36m0:00:01\u001b[0m\r\u001b[2K   \u001b[91m━━━━━━━━━━━━━━━━━━━━━━━━━━━━━━\u001b[0m\u001b[91m╸\u001b[0m\u001b[90m━━━━━━━━━\u001b[0m \u001b[32m10.3/13.3 MB\u001b[0m \u001b[31m148.3 MB/s\u001b[0m eta \u001b[36m0:00:01\u001b[0m\r\u001b[2K   \u001b[91m━━━━━━━━━━━━━━━━━━━━━━━━━━━━━━━━━━━━━━━\u001b[0m\u001b[91m╸\u001b[0m \u001b[32m13.3/13.3 MB\u001b[0m \u001b[31m161.8 MB/s\u001b[0m eta \u001b[36m0:00:01\u001b[0m\r\u001b[2K   \u001b[91m━━━━━━━━━━━━━━━━━━━━━━━━━━━━━━━━━━━━━━━\u001b[0m\u001b[91m╸\u001b[0m \u001b[32m13.3/13.3 MB\u001b[0m \u001b[31m161.8 MB/s\u001b[0m eta \u001b[36m0:00:01\u001b[0m\r\u001b[2K   \u001b[90m━━━━━━━━━━━━━━━━━━━━━━━━━━━━━━━━━━━━━━━━\u001b[0m \u001b[32m13.3/13.3 MB\u001b[0m \u001b[31m82.1 MB/s\u001b[0m eta \u001b[36m0:00:00\u001b[0m\n",
            "\u001b[?25h\u001b[?25l   \u001b[90m━━━━━━━━━━━━━━━━━━━━━━━━━━━━━━━━━━━━━━━━\u001b[0m \u001b[32m0.0/49.6 kB\u001b[0m \u001b[31m?\u001b[0m eta \u001b[36m-:--:--\u001b[0m\r\u001b[2K   \u001b[90m━━━━━━━━━━━━━━━━━━━━━━━━━━━━━━━━━━━━━━━━\u001b[0m \u001b[32m49.6/49.6 kB\u001b[0m \u001b[31m3.8 MB/s\u001b[0m eta \u001b[36m0:00:00\u001b[0m\n",
            "\u001b[?25h"
          ]
        }
      ]
    },
    {
      "cell_type": "code",
      "source": [
        "!apt-get install -y -qq coinor-cbc"
      ],
      "metadata": {
        "id": "fTef0yo1y2E1"
      },
      "execution_count": null,
      "outputs": []
    },
    {
      "cell_type": "code",
      "source": [
        "import pyomo.environ as pyo"
      ],
      "metadata": {
        "id": "XSmcs5ibXm7b"
      },
      "execution_count": 60,
      "outputs": []
    },
    {
      "cell_type": "code",
      "source": [
        "model = pyo.ConcreteModel()"
      ],
      "metadata": {
        "collapsed": true,
        "id": "M7D5CgmFaYN_"
      },
      "execution_count": 62,
      "outputs": []
    },
    {
      "cell_type": "code",
      "source": [
        "model.x = pyo.Var(sites, within=pyo.Binary)\n",
        "model.x.pprint()"
      ],
      "metadata": {
        "id": "4SfpB2wAzGCV"
      },
      "execution_count": null,
      "outputs": []
    },
    {
      "cell_type": "code",
      "source": [
        "model.obj = pyo.Objective(\n",
        "    expr = sum(model.x[i] for i in sites),\n",
        "    sense = pyo.minimize )\n",
        "\n",
        "model.obj.pprint()"
      ],
      "metadata": {
        "id": "rL14K3p_zkkD"
      },
      "execution_count": null,
      "outputs": []
    },
    {
      "cell_type": "code",
      "source": [
        "model.constraint_coverage = pyo.ConstraintList()\n",
        "for j in districts:\n",
        "  model.constraint_coverage.add(sum(model.x[i] for i in sites if cover[i][j]>0) >=1)\n",
        "model.constraint_coverage.pprint()"
      ],
      "metadata": {
        "id": "2anrtJKkzt5q"
      },
      "execution_count": null,
      "outputs": []
    },
    {
      "cell_type": "code",
      "source": [
        "opt = pyo.SolverFactory('cbc')\n",
        "model.pprint()"
      ],
      "metadata": {
        "id": "FFnZQFwz0-9M"
      },
      "execution_count": null,
      "outputs": []
    },
    {
      "cell_type": "code",
      "source": [
        "opt_solution = opt.solve(model)"
      ],
      "metadata": {
        "id": "-8VpT6rN1JGa"
      },
      "execution_count": 68,
      "outputs": []
    },
    {
      "cell_type": "code",
      "source": [
        "# Print the values of the decision variables\n",
        "print(\"\\nEMS sites opening:\")\n",
        "for i in sites:\n",
        "    print(f\"{i}: {model.x[i].value}\")\n",
        "\n",
        "print(f\"Total number of sites: {model.obj()}\")"
      ],
      "metadata": {
        "id": "euoLUn_K1OmJ"
      },
      "execution_count": null,
      "outputs": []
    }
  ]
}