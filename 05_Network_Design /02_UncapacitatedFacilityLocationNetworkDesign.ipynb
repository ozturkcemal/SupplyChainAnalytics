{
  "nbformat": 4,
  "nbformat_minor": 0,
  "metadata": {
    "colab": {
      "provenance": [],
      "authorship_tag": "ABX9TyOusAkU/A5chM58V4b0hyt1",
      "include_colab_link": true
    },
    "kernelspec": {
      "name": "python3",
      "display_name": "Python 3"
    },
    "language_info": {
      "name": "python"
    }
  },
  "cells": [
    {
      "cell_type": "markdown",
      "metadata": {
        "id": "view-in-github",
        "colab_type": "text"
      },
      "source": [
        "<a href=\"https://colab.research.google.com/github/ozturkcemal/SupplyChainAnalytics/blob/main/05_Network_Design%20/02_UncapacitatedFacilityLocationNetworkDesign.ipynb\" target=\"_parent\"><img src=\"https://colab.research.google.com/assets/colab-badge.svg\" alt=\"Open In Colab\"/></a>"
      ]
    },
    {
      "cell_type": "code",
      "execution_count": null,
      "metadata": {
        "id": "en5DRZ41jko9"
      },
      "outputs": [],
      "source": [
        "#installing library to read xlsx files\n",
        "!pip install pandas openpyxl"
      ]
    },
    {
      "cell_type": "code",
      "source": [
        "from google.colab import files\n",
        "uploaded = files.upload()"
      ],
      "metadata": {
        "id": "tCnyZCCpkGk_"
      },
      "execution_count": null,
      "outputs": []
    },
    {
      "cell_type": "code",
      "source": [
        "\n",
        "\n",
        "# Import libraries\n",
        "import openpyxl\n",
        "import pandas as pd\n",
        "import numpy as np  # Import NumPy for array manipulation\n",
        "\n",
        "\n",
        "# Get the file name of the uploaded file\n",
        "file_name = list(uploaded.keys())[0]\n",
        "\n",
        "# Load the workbook\n",
        "workbook = openpyxl.load_workbook(file_name, data_only=True)\n",
        "\n",
        "# Initialize a dictionary to store DataFrames for each named range\n",
        "named_ranges_data = {}\n",
        "\n",
        "# Loop through all defined names in the workbook\n",
        "for name, defined_name in workbook.defined_names.items():\n",
        "    destinations = list(defined_name.destinations)\n",
        "    if not destinations:\n",
        "        continue  # Skip if there are no destinations\n",
        "\n",
        "    for sheet_name, cell_range in destinations:\n",
        "        try:\n",
        "            sheet = workbook[sheet_name]\n",
        "\n",
        "            # If it's a single cell, handle it differently\n",
        "            if \":\" not in cell_range:  # Single cell (no colon in the range)\n",
        "                cell_value = sheet[cell_range].value\n",
        "                # Convert the single cell value into a DataFrame (1x1)\n",
        "                df = pd.DataFrame([[cell_value]])\n",
        "\n",
        "            else:\n",
        "                # Retrieve the data from the specified range\n",
        "                data = []\n",
        "                for row in sheet[cell_range]:\n",
        "                    data.append([cell.value for cell in row])\n",
        "\n",
        "                # Convert to DataFrame\n",
        "                df = pd.DataFrame(data)\n",
        "\n",
        "            # Store the DataFrame with the named range as the key\n",
        "            named_ranges_data[name] = df\n",
        "\n",
        "        except Exception as e:\n",
        "            print(f\"Error processing range {name}: {e}\")\n",
        "            continue\n",
        "\n",
        "# Create an array for each DataFrame, named after the DataFrame\n",
        "for range_name, df in named_ranges_data.items():\n",
        "    globals()[range_name] = np.array(df)  # Converts the DataFrame to a NumPy array\n",
        "\n",
        "# Example of accessing one of the dynamically created arrays\n",
        "for range_name in named_ranges_data:\n",
        "    print(f\"Array created for {range_name}:\")\n",
        "    print(globals()[range_name])\n",
        "    print()\n",
        "\n",
        "\n",
        "facilities = list(range(facilities.shape[0]))\n",
        "print(\"List of facilities:\", facilities)\n",
        "\n",
        "# Create a list of indices from 0 to num_markets - 1\n",
        "markets= list(range(markets.shape[1]))\n",
        "\n",
        "# Print the resulting list\n",
        "print(\"List of markets:\", markets)\n"
      ],
      "metadata": {
        "id": "M4jsgsCUkWwP"
      },
      "execution_count": null,
      "outputs": []
    },
    {
      "cell_type": "code",
      "source": [
        "#installing pyomo\n",
        "!pip install -q pyomo"
      ],
      "metadata": {
        "id": "KjLUS5ABywRu"
      },
      "execution_count": null,
      "outputs": []
    },
    {
      "cell_type": "code",
      "source": [
        "#installing coin or\n",
        "!apt-get install -y -qq coinor-cbc"
      ],
      "metadata": {
        "id": "fTef0yo1y2E1"
      },
      "execution_count": null,
      "outputs": []
    },
    {
      "cell_type": "code",
      "source": [
        "#importing pyomo environment\n",
        "import pyomo.environ as pyo"
      ],
      "metadata": {
        "id": "XSmcs5ibXm7b"
      },
      "execution_count": null,
      "outputs": []
    },
    {
      "cell_type": "code",
      "source": [
        "#creating a model object\n",
        "model = pyo.ConcreteModel()"
      ],
      "metadata": {
        "collapsed": true,
        "id": "M7D5CgmFaYN_"
      },
      "execution_count": null,
      "outputs": []
    },
    {
      "cell_type": "code",
      "source": [
        "#defining variables\n",
        "model.x = pyo.Var(facilities,markets, within=pyo.Binary)\n",
        "model.y = pyo.Var(facilities, within=pyo.Binary)\n",
        "model.x.pprint()\n",
        "model.y.pprint()"
      ],
      "metadata": {
        "id": "4SfpB2wAzGCV"
      },
      "execution_count": null,
      "outputs": []
    },
    {
      "cell_type": "code",
      "source": [
        "# Remove any existing objective component named \"obj\"\n",
        "if hasattr(model, 'obj'):\n",
        "    model.del_component('obj')\n",
        "\n",
        "#defining objective function\n",
        "model.obj = pyo.Objective(\n",
        "    expr=sum(fixedCost[s] * model.y[s] for s in facilities) +\n",
        "         sum(transportCost[s][m] * model.x[s, m] for s in facilities for m in markets if transportCost[s][m]>0),\n",
        "    sense=pyo.minimize\n",
        ")\n",
        "model.obj.pprint()"
      ],
      "metadata": {
        "id": "rL14K3p_zkkD"
      },
      "execution_count": null,
      "outputs": []
    },
    {
      "cell_type": "code",
      "source": [
        "#modeling the condition that if market m is served by facility m , there must be a facility at m\n",
        "model.constraint_facility = pyo.ConstraintList()\n",
        "for s in facilities:\n",
        "  for m in markets:\n",
        "    model.constraint_facility.add(model.x[s,m] <= model.y[s])\n",
        "model.constraint_facility.pprint()"
      ],
      "metadata": {
        "id": "2anrtJKkzt5q"
      },
      "execution_count": null,
      "outputs": []
    },
    {
      "cell_type": "code",
      "source": [
        "#modeling the single sourcing (partitioning) constraint\n",
        "model.constraint_singleSourcing = pyo.ConstraintList()\n",
        "for m in markets:\n",
        "  model.constraint_singleSourcing.add(sum(model.x[s,m] for s in facilities) == 1)\n",
        "model.constraint_singleSourcing.pprint()\n",
        "\n",
        "\n"
      ],
      "metadata": {
        "id": "b4a-ChlE5i76"
      },
      "execution_count": null,
      "outputs": []
    },
    {
      "cell_type": "code",
      "source": [
        "#connecting cbc solver and printing the model\n",
        "opt = pyo.SolverFactory('cbc')\n",
        "model.pprint()"
      ],
      "metadata": {
        "id": "FFnZQFwz0-9M"
      },
      "execution_count": null,
      "outputs": []
    },
    {
      "cell_type": "code",
      "source": [
        "#solve the model\n",
        "opt_solution = opt.solve(model)"
      ],
      "metadata": {
        "id": "-8VpT6rN1JGa"
      },
      "execution_count": null,
      "outputs": []
    },
    {
      "cell_type": "code",
      "source": [
        "# Print the values of the decision variables\n",
        "#we are shifting the indices for presentation\n",
        "print(\"\\nFacilities opening:\")\n",
        "for s in facilities:\n",
        "    if model.y[s].value > 0:\n",
        "      print(f\"{s+1}: {model.y[s].value}\")\n",
        "\n",
        "print(\"\\nTransport (Network) links opened:\")\n",
        "for s in facilities:\n",
        "  for m in markets:\n",
        "    if model.x[s,m].value > 0:\n",
        "      print(f\"({s+1},{m+1}): {model.x[s,m].value}\")\n",
        "\n",
        "print(f\"total cost of facility opening is {sum(fixedCost[s] * model.y[s].value for s in facilities)[0]}\")\n",
        "print(f\"total cost of transport is {sum(transportCost[s][m] * model.x[s, m].value for s in facilities for m in markets if transportCost[s][m]>0)}\")\n",
        "print(f\"Total cost of facility location and network design is : {model.obj()}\")"
      ],
      "metadata": {
        "id": "euoLUn_K1OmJ"
      },
      "execution_count": null,
      "outputs": []
    }
  ]
}