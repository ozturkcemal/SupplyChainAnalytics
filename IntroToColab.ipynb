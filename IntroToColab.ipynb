{
  "nbformat": 4,
  "nbformat_minor": 0,
  "metadata": {
    "colab": {
      "provenance": [],
      "authorship_tag": "ABX9TyMoEpVxNOHD1i49CqOsPDae",
      "include_colab_link": true
    },
    "kernelspec": {
      "name": "python3",
      "display_name": "Python 3"
    },
    "language_info": {
      "name": "python"
    }
  },
  "cells": [
    {
      "cell_type": "markdown",
      "metadata": {
        "id": "view-in-github",
        "colab_type": "text"
      },
      "source": [
        "<a href=\"https://colab.research.google.com/github/ozturkcemal/SupplyChainAnalytics/blob/main/IntroToColab.ipynb\" target=\"_parent\"><img src=\"https://colab.research.google.com/assets/colab-badge.svg\" alt=\"Open In Colab\"/></a>"
      ]
    },
    {
      "cell_type": "code",
      "execution_count": null,
      "metadata": {
        "id": "2L-c_z3B65d6"
      },
      "outputs": [],
      "source": []
    },
    {
      "cell_type": "code",
      "execution_count": null,
      "metadata": {
        "colab": {
          "base_uri": "https://localhost:8080/"
        },
        "id": "yTGBrqQO3vT2",
        "outputId": "15d1e640-9907-4132-9a31-78f34c18c1ad",
        "pycharm": {},
        "collapsed": true
      },
      "outputs": [
        {
          "output_type": "stream",
          "name": "stdout",
          "text": [
            "\u001b[2K   \u001b[90m━━━━━━━━━━━━━━━━━━━━━━━━━━━━━━━━━━━━━━━━\u001b[0m \u001b[32m13.3/13.3 MB\u001b[0m \u001b[31m36.4 MB/s\u001b[0m eta \u001b[36m0:00:00\u001b[0m\n",
            "\u001b[2K   \u001b[90m━━━━━━━━━━━━━━━━━━━━━━━━━━━━━━━━━━━━━━━━\u001b[0m \u001b[32m49.6/49.6 kB\u001b[0m \u001b[31m2.4 MB/s\u001b[0m eta \u001b[36m0:00:00\u001b[0m\n",
            "\u001b[?25h"
          ]
        }
      ],
      "source": [
        "!pip install -q pyomo"
      ]
    },
    {
      "cell_type": "code",
      "source": [
        "!apt-get install -y -qq coinor-cbc"
      ],
      "metadata": {
        "id": "f1UpWPRF7yRc"
      },
      "execution_count": null,
      "outputs": []
    },
    {
      "cell_type": "code",
      "source": [
        "# knapsack.py\n",
        "import pyomo.environ as pyo\n",
        "\n",
        "A = ['hammer', 'wrench', 'screwdriver', 'towel']\n",
        "b = {'hammer':8, 'wrench':3, 'screwdriver':6, 'towel':11}\n",
        "w = {'hammer':5, 'wrench':7, 'screwdriver':4, 'towel':3}\n",
        "W_max = 14\n",
        "\n",
        "model = pyo.ConcreteModel()\n",
        "model.x = pyo.Var( A, within=pyo.Binary )\n",
        "\n",
        "model.obj = pyo.Objective(\n",
        "    expr = sum( b[i]*model.x[i] for i in A ),\n",
        "    sense = pyo.maximize )\n",
        "\n",
        "model.weight_con = pyo.Constraint(\n",
        "    expr = sum( w[i]*model.x[i] for i in A ) <= W_max )\n",
        "\n",
        "#opt = pyo.SolverFactory('glpk')\n",
        "opt = pyo.SolverFactory('cbc')\n",
        "opt_success = opt.solve(model)\n",
        "\n",
        "model.pprint()\n",
        "# Print the values of the decision variables\n",
        "print(\"\\nSelected items:\")\n",
        "for i in A:\n",
        "    print(f\"{i}: {model.x[i].value}\")\n",
        "\n",
        "print(f\"Objective: {model.obj()}\")"
      ],
      "metadata": {
        "colab": {
          "base_uri": "https://localhost:8080/"
        },
        "id": "EWdAIV858b7l",
        "outputId": "ecf78d66-7237-4af0-ebd4-69f6935fc16a"
      },
      "execution_count": null,
      "outputs": [
        {
          "output_type": "stream",
          "name": "stdout",
          "text": [
            "1 Var Declarations\n",
            "    x : Size=4, Index={hammer, wrench, screwdriver, towel}\n",
            "        Key         : Lower : Value : Upper : Fixed : Stale : Domain\n",
            "             hammer :     0 :   1.0 :     1 : False : False : Binary\n",
            "        screwdriver :     0 :   1.0 :     1 : False : False : Binary\n",
            "              towel :     0 :   1.0 :     1 : False : False : Binary\n",
            "             wrench :     0 :   0.0 :     1 : False : False : Binary\n",
            "\n",
            "1 Objective Declarations\n",
            "    obj : Size=1, Index=None, Active=True\n",
            "        Key  : Active : Sense    : Expression\n",
            "        None :   True : maximize : 8*x[hammer] + 3*x[wrench] + 6*x[screwdriver] + 11*x[towel]\n",
            "\n",
            "1 Constraint Declarations\n",
            "    weight_con : Size=1, Index=None, Active=True\n",
            "        Key  : Lower : Body                                                      : Upper : Active\n",
            "        None :  -Inf : 5*x[hammer] + 7*x[wrench] + 4*x[screwdriver] + 3*x[towel] :  14.0 :   True\n",
            "\n",
            "3 Declarations: x obj weight_con\n",
            "\n",
            "Selected items:\n",
            "hammer: 1.0\n",
            "wrench: 0.0\n",
            "screwdriver: 1.0\n",
            "towel: 1.0\n",
            "Objective: 25.0\n"
          ]
        }
      ]
    }
  ]
}