{
  "nbformat": 4,
  "nbformat_minor": 0,
  "metadata": {
    "colab": {
      "provenance": [],
      "authorship_tag": "ABX9TyP4EUBVezKg6+5MtIyBy7hC",
      "include_colab_link": true
    },
    "kernelspec": {
      "name": "python3",
      "display_name": "Python 3"
    },
    "language_info": {
      "name": "python"
    }
  },
  "cells": [
    {
      "cell_type": "markdown",
      "metadata": {
        "id": "view-in-github",
        "colab_type": "text"
      },
      "source": [
        "<a href=\"https://colab.research.google.com/github/ozturkcemal/SupplyChainAnalytics/blob/main/03_FacilityLocation_CenterOfGravity/MapVisualisation.ipynb\" target=\"_parent\"><img src=\"https://colab.research.google.com/assets/colab-badge.svg\" alt=\"Open In Colab\"/></a>"
      ]
    },
    {
      "cell_type": "code",
      "execution_count": null,
      "metadata": {
        "id": "rudUiJ7-YBMq"
      },
      "outputs": [],
      "source": [
        "!pip install folium\n",
        "#installing folim library. Folium is a Python library used for visualizing geospatial data.\n",
        "#Python Folium is wrapper for Leaflet.js which is a leading open-source JavaScript library for plotting interactive maps.\n",
        "\n",
        "#homepage: https://python-visualization.github.io/folium/latest/#\n",
        "#use cases, examples : https://www.analyticsvidhya.com/blog/2020/06/guide-geospatial-analysis-folium-python/\n"
      ]
    },
    {
      "cell_type": "code",
      "source": [
        "import folium\n",
        "from IPython.display import display, IFrame"
      ],
      "metadata": {
        "id": "8CwOPBabYKKa"
      },
      "execution_count": 11,
      "outputs": []
    },
    {
      "cell_type": "code",
      "source": [
        "# Function to create and display the map with multiple locations\n",
        "def create_map(locations):\n",
        "    # Initialize a map centered at the first location\n",
        "    if len(locations) > 0:\n",
        "        initial_location = locations[0][:2]  # Only use the latitude and longitude for centering\n",
        "        m = folium.Map(location=initial_location, zoom_start=6)\n",
        "\n",
        "        # Add each location to the map\n",
        "        for lat, lon, name in locations:\n",
        "          if name == \"Cork\":\n",
        "                # Add a red marker for Cork\n",
        "                folium.Marker(location=[lat, lon], popup=name,\n",
        "                              icon=folium.Icon(color='red')).add_to(m)\n",
        "          else:\n",
        "                # Add default markers for others\n",
        "               folium.Marker(location=[lat, lon], popup=name).add_to(m)\n",
        "\n",
        "        # Display the map inline in the notebook\n",
        "        display(m)\n",
        "    else:\n",
        "        print(\"No locations provided.\")"
      ],
      "metadata": {
        "id": "odMF9XfzYRHK"
      },
      "execution_count": 16,
      "outputs": []
    },
    {
      "cell_type": "code",
      "source": [
        "# Example list of locations (latitude, longitude, name)\n",
        "locations = [\n",
        "    (53.34803180330561, -6.275358804387943, \"Dublin\"),     # Dublin\n",
        "    (51.88940626480707, -8.490771460163085, \"Cork\"),       # Cork\n",
        "    (53.28567307231417, -9.028553794056856, \"Galway\"),     # Galway\n",
        "]\n",
        "\n",
        "# Create and display the map in Colab\n",
        "create_map(locations)"
      ],
      "metadata": {
        "colab": {
          "base_uri": "https://localhost:8080/",
          "height": 1000
        },
        "id": "DA7WKb4bbML5",
        "outputId": "80a42a13-07b5-4bf7-d05b-89995bc4a102"
      },
      "execution_count": 17,
      "outputs": [
        {
          "output_type": "display_data",
          "data": {
            "text/plain": [
              "<folium.folium.Map at 0x7b1b8ba56470>"
            ],
            "text/html": [
              "<div style=\"width:100%;\"><div style=\"position:relative;width:100%;height:0;padding-bottom:60%;\"><span style=\"color:#565656\">Make this Notebook Trusted to load map: File -> Trust Notebook</span><iframe srcdoc=\"&lt;!DOCTYPE html&gt;\n",
              "&lt;html&gt;\n",
              "&lt;head&gt;\n",
              "    \n",
              "    &lt;meta http-equiv=&quot;content-type&quot; content=&quot;text/html; charset=UTF-8&quot; /&gt;\n",
              "    \n",
              "        &lt;script&gt;\n",
              "            L_NO_TOUCH = false;\n",
              "            L_DISABLE_3D = false;\n",
              "        &lt;/script&gt;\n",
              "    \n",
              "    &lt;style&gt;html, body {width: 100%;height: 100%;margin: 0;padding: 0;}&lt;/style&gt;\n",
              "    &lt;style&gt;#map {position:absolute;top:0;bottom:0;right:0;left:0;}&lt;/style&gt;\n",
              "    &lt;script src=&quot;https://cdn.jsdelivr.net/npm/leaflet@1.9.3/dist/leaflet.js&quot;&gt;&lt;/script&gt;\n",
              "    &lt;script src=&quot;https://code.jquery.com/jquery-3.7.1.min.js&quot;&gt;&lt;/script&gt;\n",
              "    &lt;script src=&quot;https://cdn.jsdelivr.net/npm/bootstrap@5.2.2/dist/js/bootstrap.bundle.min.js&quot;&gt;&lt;/script&gt;\n",
              "    &lt;script src=&quot;https://cdnjs.cloudflare.com/ajax/libs/Leaflet.awesome-markers/2.0.2/leaflet.awesome-markers.js&quot;&gt;&lt;/script&gt;\n",
              "    &lt;link rel=&quot;stylesheet&quot; href=&quot;https://cdn.jsdelivr.net/npm/leaflet@1.9.3/dist/leaflet.css&quot;/&gt;\n",
              "    &lt;link rel=&quot;stylesheet&quot; href=&quot;https://cdn.jsdelivr.net/npm/bootstrap@5.2.2/dist/css/bootstrap.min.css&quot;/&gt;\n",
              "    &lt;link rel=&quot;stylesheet&quot; href=&quot;https://netdna.bootstrapcdn.com/bootstrap/3.0.0/css/bootstrap-glyphicons.css&quot;/&gt;\n",
              "    &lt;link rel=&quot;stylesheet&quot; href=&quot;https://cdn.jsdelivr.net/npm/@fortawesome/fontawesome-free@6.2.0/css/all.min.css&quot;/&gt;\n",
              "    &lt;link rel=&quot;stylesheet&quot; href=&quot;https://cdnjs.cloudflare.com/ajax/libs/Leaflet.awesome-markers/2.0.2/leaflet.awesome-markers.css&quot;/&gt;\n",
              "    &lt;link rel=&quot;stylesheet&quot; href=&quot;https://cdn.jsdelivr.net/gh/python-visualization/folium/folium/templates/leaflet.awesome.rotate.min.css&quot;/&gt;\n",
              "    \n",
              "            &lt;meta name=&quot;viewport&quot; content=&quot;width=device-width,\n",
              "                initial-scale=1.0, maximum-scale=1.0, user-scalable=no&quot; /&gt;\n",
              "            &lt;style&gt;\n",
              "                #map_68b0a8507908aed73c767ea913ebdb83 {\n",
              "                    position: relative;\n",
              "                    width: 100.0%;\n",
              "                    height: 100.0%;\n",
              "                    left: 0.0%;\n",
              "                    top: 0.0%;\n",
              "                }\n",
              "                .leaflet-container { font-size: 1rem; }\n",
              "            &lt;/style&gt;\n",
              "        \n",
              "&lt;/head&gt;\n",
              "&lt;body&gt;\n",
              "    \n",
              "    \n",
              "            &lt;div class=&quot;folium-map&quot; id=&quot;map_68b0a8507908aed73c767ea913ebdb83&quot; &gt;&lt;/div&gt;\n",
              "        \n",
              "&lt;/body&gt;\n",
              "&lt;script&gt;\n",
              "    \n",
              "    \n",
              "            var map_68b0a8507908aed73c767ea913ebdb83 = L.map(\n",
              "                &quot;map_68b0a8507908aed73c767ea913ebdb83&quot;,\n",
              "                {\n",
              "                    center: [53.34803180330561, -6.275358804387943],\n",
              "                    crs: L.CRS.EPSG3857,\n",
              "                    zoom: 6,\n",
              "                    zoomControl: true,\n",
              "                    preferCanvas: false,\n",
              "                }\n",
              "            );\n",
              "\n",
              "            \n",
              "\n",
              "        \n",
              "    \n",
              "            var tile_layer_215cbeb838fecddeb1d4992aed0051f6 = L.tileLayer(\n",
              "                &quot;https://tile.openstreetmap.org/{z}/{x}/{y}.png&quot;,\n",
              "                {&quot;attribution&quot;: &quot;\\u0026copy; \\u003ca href=\\&quot;https://www.openstreetmap.org/copyright\\&quot;\\u003eOpenStreetMap\\u003c/a\\u003e contributors&quot;, &quot;detectRetina&quot;: false, &quot;maxNativeZoom&quot;: 19, &quot;maxZoom&quot;: 19, &quot;minZoom&quot;: 0, &quot;noWrap&quot;: false, &quot;opacity&quot;: 1, &quot;subdomains&quot;: &quot;abc&quot;, &quot;tms&quot;: false}\n",
              "            );\n",
              "        \n",
              "    \n",
              "            tile_layer_215cbeb838fecddeb1d4992aed0051f6.addTo(map_68b0a8507908aed73c767ea913ebdb83);\n",
              "        \n",
              "    \n",
              "            var marker_21638858f45e1e89022ffcb0d71357b3 = L.marker(\n",
              "                [53.34803180330561, -6.275358804387943],\n",
              "                {}\n",
              "            ).addTo(map_68b0a8507908aed73c767ea913ebdb83);\n",
              "        \n",
              "    \n",
              "        var popup_0c69f7c4b7925b6df27d6d16ab416a47 = L.popup({&quot;maxWidth&quot;: &quot;100%&quot;});\n",
              "\n",
              "        \n",
              "            \n",
              "                var html_fe0b2d552b52bb1f528b6169e87079fa = $(`&lt;div id=&quot;html_fe0b2d552b52bb1f528b6169e87079fa&quot; style=&quot;width: 100.0%; height: 100.0%;&quot;&gt;Dublin&lt;/div&gt;`)[0];\n",
              "                popup_0c69f7c4b7925b6df27d6d16ab416a47.setContent(html_fe0b2d552b52bb1f528b6169e87079fa);\n",
              "            \n",
              "        \n",
              "\n",
              "        marker_21638858f45e1e89022ffcb0d71357b3.bindPopup(popup_0c69f7c4b7925b6df27d6d16ab416a47)\n",
              "        ;\n",
              "\n",
              "        \n",
              "    \n",
              "    \n",
              "            var marker_a7752fcde86c3fef8eeb71959a154865 = L.marker(\n",
              "                [51.88940626480707, -8.490771460163085],\n",
              "                {}\n",
              "            ).addTo(map_68b0a8507908aed73c767ea913ebdb83);\n",
              "        \n",
              "    \n",
              "            var icon_bd107ef6e90834a0c3876e49ad3c5d67 = L.AwesomeMarkers.icon(\n",
              "                {&quot;extraClasses&quot;: &quot;fa-rotate-0&quot;, &quot;icon&quot;: &quot;info-sign&quot;, &quot;iconColor&quot;: &quot;white&quot;, &quot;markerColor&quot;: &quot;red&quot;, &quot;prefix&quot;: &quot;glyphicon&quot;}\n",
              "            );\n",
              "            marker_a7752fcde86c3fef8eeb71959a154865.setIcon(icon_bd107ef6e90834a0c3876e49ad3c5d67);\n",
              "        \n",
              "    \n",
              "        var popup_c3ec1a49790f4e4a3c5e61a2d49d860d = L.popup({&quot;maxWidth&quot;: &quot;100%&quot;});\n",
              "\n",
              "        \n",
              "            \n",
              "                var html_a673ab6bc90d2c3a4066d5783a23c417 = $(`&lt;div id=&quot;html_a673ab6bc90d2c3a4066d5783a23c417&quot; style=&quot;width: 100.0%; height: 100.0%;&quot;&gt;Cork&lt;/div&gt;`)[0];\n",
              "                popup_c3ec1a49790f4e4a3c5e61a2d49d860d.setContent(html_a673ab6bc90d2c3a4066d5783a23c417);\n",
              "            \n",
              "        \n",
              "\n",
              "        marker_a7752fcde86c3fef8eeb71959a154865.bindPopup(popup_c3ec1a49790f4e4a3c5e61a2d49d860d)\n",
              "        ;\n",
              "\n",
              "        \n",
              "    \n",
              "    \n",
              "            var marker_affbef1fd3285b98d33ad398903ef1bc = L.marker(\n",
              "                [53.28567307231417, -9.028553794056856],\n",
              "                {}\n",
              "            ).addTo(map_68b0a8507908aed73c767ea913ebdb83);\n",
              "        \n",
              "    \n",
              "        var popup_ff78b5a1e135807607ce2bd76eb89656 = L.popup({&quot;maxWidth&quot;: &quot;100%&quot;});\n",
              "\n",
              "        \n",
              "            \n",
              "                var html_ce6d3fed6bf3f120f3b3080bf5bddf84 = $(`&lt;div id=&quot;html_ce6d3fed6bf3f120f3b3080bf5bddf84&quot; style=&quot;width: 100.0%; height: 100.0%;&quot;&gt;Galway&lt;/div&gt;`)[0];\n",
              "                popup_ff78b5a1e135807607ce2bd76eb89656.setContent(html_ce6d3fed6bf3f120f3b3080bf5bddf84);\n",
              "            \n",
              "        \n",
              "\n",
              "        marker_affbef1fd3285b98d33ad398903ef1bc.bindPopup(popup_ff78b5a1e135807607ce2bd76eb89656)\n",
              "        ;\n",
              "\n",
              "        \n",
              "    \n",
              "&lt;/script&gt;\n",
              "&lt;/html&gt;\" style=\"position:absolute;width:100%;height:100%;left:0;top:0;border:none !important;\" allowfullscreen webkitallowfullscreen mozallowfullscreen></iframe></div></div>"
            ]
          },
          "metadata": {}
        }
      ]
    }
  ]
}