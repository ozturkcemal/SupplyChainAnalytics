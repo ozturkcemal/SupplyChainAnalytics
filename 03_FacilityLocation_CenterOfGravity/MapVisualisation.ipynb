{
  "nbformat": 4,
  "nbformat_minor": 0,
  "metadata": {
    "colab": {
      "provenance": [],
      "authorship_tag": "ABX9TyP9HlVEx+Rv18me51BxSqgK",
      "include_colab_link": true
    },
    "kernelspec": {
      "name": "python3",
      "display_name": "Python 3"
    },
    "language_info": {
      "name": "python"
    }
  },
  "cells": [
    {
      "cell_type": "markdown",
      "metadata": {
        "id": "view-in-github",
        "colab_type": "text"
      },
      "source": [
        "<a href=\"https://colab.research.google.com/github/ozturkcemal/SupplyChainAnalytics/blob/main/03_FacilityLocation_CenterOfGravity/MapVisualisation.ipynb\" target=\"_parent\"><img src=\"https://colab.research.google.com/assets/colab-badge.svg\" alt=\"Open In Colab\"/></a>"
      ]
    },
    {
      "cell_type": "code",
      "execution_count": null,
      "metadata": {
        "id": "rudUiJ7-YBMq"
      },
      "outputs": [],
      "source": [
        "!pip install folium\n",
        "#installing folim library. Folium is a Python library used for visualizing geospatial data.\n",
        "#Python Folium is wrapper for Leaflet.js which is a leading open-source JavaScript library for plotting interactive maps.\n",
        "\n",
        "#homepage: https://python-visualization.github.io/folium/latest/#\n",
        "#use cases, examples : https://www.analyticsvidhya.com/blog/2020/06/guide-geospatial-analysis-folium-python/\n"
      ]
    },
    {
      "cell_type": "code",
      "source": [
        "import folium\n",
        "from IPython.display import display, IFrame"
      ],
      "metadata": {
        "id": "8CwOPBabYKKa"
      },
      "execution_count": 11,
      "outputs": []
    },
    {
      "cell_type": "code",
      "source": [
        "# Function to create and display the map with multiple locations\n",
        "def create_map(locations):\n",
        "    # Initialize a map centered at the first location\n",
        "    if len(locations) > 0:\n",
        "        initial_location = locations[0][:2]  # Only use the latitude and longitude for centering\n",
        "        m = folium.Map(location=initial_location, zoom_start=6)\n",
        "\n",
        "        # Add each location to the map\n",
        "        for lat, lon, name in locations:\n",
        "            folium.Marker(location=[lat, lon], popup=name).add_to(m)\n",
        "\n",
        "        # Display the map inline in the notebook\n",
        "        display(m)\n",
        "    else:\n",
        "        print(\"No locations provided.\")"
      ],
      "metadata": {
        "id": "odMF9XfzYRHK"
      },
      "execution_count": 12,
      "outputs": []
    },
    {
      "cell_type": "code",
      "source": [
        "# Example list of locations (latitude, longitude, name)\n",
        "locations = [\n",
        "    (53.34803180330561, -6.275358804387943, \"Dublin\"),     # Dublin\n",
        "    (51.88940626480707, -8.490771460163085, \"Cork\"),       # Cork\n",
        "    (53.28567307231417, -9.028553794056856, \"Galway\"),     # Galway\n",
        "]\n",
        "\n",
        "# Create and display the map in Colab\n",
        "create_map(locations)"
      ],
      "metadata": {
        "id": "DA7WKb4bbML5"
      },
      "execution_count": null,
      "outputs": []
    }
  ]
}