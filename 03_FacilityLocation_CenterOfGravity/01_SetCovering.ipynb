{
  "nbformat": 4,
  "nbformat_minor": 0,
  "metadata": {
    "colab": {
      "provenance": [],
      "authorship_tag": "ABX9TyML4F/rZZ13EehCruCA24eh",
      "include_colab_link": true
    },
    "kernelspec": {
      "name": "python3",
      "display_name": "Python 3"
    },
    "language_info": {
      "name": "python"
    }
  },
  "cells": [
    {
      "cell_type": "markdown",
      "metadata": {
        "id": "view-in-github",
        "colab_type": "text"
      },
      "source": [
        "<a href=\"https://colab.research.google.com/github/ozturkcemal/SupplyChainAnalytics/blob/main/03_FacilityLocation_CenterOfGravity/01_SetCovering.ipynb\" target=\"_parent\"><img src=\"https://colab.research.google.com/assets/colab-badge.svg\" alt=\"Open In Colab\"/></a>"
      ]
    },
    {
      "cell_type": "code",
      "execution_count": null,
      "metadata": {
        "id": "en5DRZ41jko9"
      },
      "outputs": [],
      "source": [
        "!pip install pandas openpyxl"
      ]
    },
    {
      "cell_type": "code",
      "source": [
        "from google.colab import files\n",
        "uploaded = files.upload()"
      ],
      "metadata": {
        "colab": {
          "base_uri": "https://localhost:8080/",
          "height": 73
        },
        "id": "tCnyZCCpkGk_",
        "outputId": "a3b6a160-426d-438a-f125-a716c5ec82cc"
      },
      "execution_count": 30,
      "outputs": [
        {
          "output_type": "display_data",
          "data": {
            "text/plain": [
              "<IPython.core.display.HTML object>"
            ],
            "text/html": [
              "\n",
              "     <input type=\"file\" id=\"files-c7fef032-2f40-4ad8-9e2d-cabb159fcb70\" name=\"files[]\" multiple disabled\n",
              "        style=\"border:none\" />\n",
              "     <output id=\"result-c7fef032-2f40-4ad8-9e2d-cabb159fcb70\">\n",
              "      Upload widget is only available when the cell has been executed in the\n",
              "      current browser session. Please rerun this cell to enable.\n",
              "      </output>\n",
              "      <script>// Copyright 2017 Google LLC\n",
              "//\n",
              "// Licensed under the Apache License, Version 2.0 (the \"License\");\n",
              "// you may not use this file except in compliance with the License.\n",
              "// You may obtain a copy of the License at\n",
              "//\n",
              "//      http://www.apache.org/licenses/LICENSE-2.0\n",
              "//\n",
              "// Unless required by applicable law or agreed to in writing, software\n",
              "// distributed under the License is distributed on an \"AS IS\" BASIS,\n",
              "// WITHOUT WARRANTIES OR CONDITIONS OF ANY KIND, either express or implied.\n",
              "// See the License for the specific language governing permissions and\n",
              "// limitations under the License.\n",
              "\n",
              "/**\n",
              " * @fileoverview Helpers for google.colab Python module.\n",
              " */\n",
              "(function(scope) {\n",
              "function span(text, styleAttributes = {}) {\n",
              "  const element = document.createElement('span');\n",
              "  element.textContent = text;\n",
              "  for (const key of Object.keys(styleAttributes)) {\n",
              "    element.style[key] = styleAttributes[key];\n",
              "  }\n",
              "  return element;\n",
              "}\n",
              "\n",
              "// Max number of bytes which will be uploaded at a time.\n",
              "const MAX_PAYLOAD_SIZE = 100 * 1024;\n",
              "\n",
              "function _uploadFiles(inputId, outputId) {\n",
              "  const steps = uploadFilesStep(inputId, outputId);\n",
              "  const outputElement = document.getElementById(outputId);\n",
              "  // Cache steps on the outputElement to make it available for the next call\n",
              "  // to uploadFilesContinue from Python.\n",
              "  outputElement.steps = steps;\n",
              "\n",
              "  return _uploadFilesContinue(outputId);\n",
              "}\n",
              "\n",
              "// This is roughly an async generator (not supported in the browser yet),\n",
              "// where there are multiple asynchronous steps and the Python side is going\n",
              "// to poll for completion of each step.\n",
              "// This uses a Promise to block the python side on completion of each step,\n",
              "// then passes the result of the previous step as the input to the next step.\n",
              "function _uploadFilesContinue(outputId) {\n",
              "  const outputElement = document.getElementById(outputId);\n",
              "  const steps = outputElement.steps;\n",
              "\n",
              "  const next = steps.next(outputElement.lastPromiseValue);\n",
              "  return Promise.resolve(next.value.promise).then((value) => {\n",
              "    // Cache the last promise value to make it available to the next\n",
              "    // step of the generator.\n",
              "    outputElement.lastPromiseValue = value;\n",
              "    return next.value.response;\n",
              "  });\n",
              "}\n",
              "\n",
              "/**\n",
              " * Generator function which is called between each async step of the upload\n",
              " * process.\n",
              " * @param {string} inputId Element ID of the input file picker element.\n",
              " * @param {string} outputId Element ID of the output display.\n",
              " * @return {!Iterable<!Object>} Iterable of next steps.\n",
              " */\n",
              "function* uploadFilesStep(inputId, outputId) {\n",
              "  const inputElement = document.getElementById(inputId);\n",
              "  inputElement.disabled = false;\n",
              "\n",
              "  const outputElement = document.getElementById(outputId);\n",
              "  outputElement.innerHTML = '';\n",
              "\n",
              "  const pickedPromise = new Promise((resolve) => {\n",
              "    inputElement.addEventListener('change', (e) => {\n",
              "      resolve(e.target.files);\n",
              "    });\n",
              "  });\n",
              "\n",
              "  const cancel = document.createElement('button');\n",
              "  inputElement.parentElement.appendChild(cancel);\n",
              "  cancel.textContent = 'Cancel upload';\n",
              "  const cancelPromise = new Promise((resolve) => {\n",
              "    cancel.onclick = () => {\n",
              "      resolve(null);\n",
              "    };\n",
              "  });\n",
              "\n",
              "  // Wait for the user to pick the files.\n",
              "  const files = yield {\n",
              "    promise: Promise.race([pickedPromise, cancelPromise]),\n",
              "    response: {\n",
              "      action: 'starting',\n",
              "    }\n",
              "  };\n",
              "\n",
              "  cancel.remove();\n",
              "\n",
              "  // Disable the input element since further picks are not allowed.\n",
              "  inputElement.disabled = true;\n",
              "\n",
              "  if (!files) {\n",
              "    return {\n",
              "      response: {\n",
              "        action: 'complete',\n",
              "      }\n",
              "    };\n",
              "  }\n",
              "\n",
              "  for (const file of files) {\n",
              "    const li = document.createElement('li');\n",
              "    li.append(span(file.name, {fontWeight: 'bold'}));\n",
              "    li.append(span(\n",
              "        `(${file.type || 'n/a'}) - ${file.size} bytes, ` +\n",
              "        `last modified: ${\n",
              "            file.lastModifiedDate ? file.lastModifiedDate.toLocaleDateString() :\n",
              "                                    'n/a'} - `));\n",
              "    const percent = span('0% done');\n",
              "    li.appendChild(percent);\n",
              "\n",
              "    outputElement.appendChild(li);\n",
              "\n",
              "    const fileDataPromise = new Promise((resolve) => {\n",
              "      const reader = new FileReader();\n",
              "      reader.onload = (e) => {\n",
              "        resolve(e.target.result);\n",
              "      };\n",
              "      reader.readAsArrayBuffer(file);\n",
              "    });\n",
              "    // Wait for the data to be ready.\n",
              "    let fileData = yield {\n",
              "      promise: fileDataPromise,\n",
              "      response: {\n",
              "        action: 'continue',\n",
              "      }\n",
              "    };\n",
              "\n",
              "    // Use a chunked sending to avoid message size limits. See b/62115660.\n",
              "    let position = 0;\n",
              "    do {\n",
              "      const length = Math.min(fileData.byteLength - position, MAX_PAYLOAD_SIZE);\n",
              "      const chunk = new Uint8Array(fileData, position, length);\n",
              "      position += length;\n",
              "\n",
              "      const base64 = btoa(String.fromCharCode.apply(null, chunk));\n",
              "      yield {\n",
              "        response: {\n",
              "          action: 'append',\n",
              "          file: file.name,\n",
              "          data: base64,\n",
              "        },\n",
              "      };\n",
              "\n",
              "      let percentDone = fileData.byteLength === 0 ?\n",
              "          100 :\n",
              "          Math.round((position / fileData.byteLength) * 100);\n",
              "      percent.textContent = `${percentDone}% done`;\n",
              "\n",
              "    } while (position < fileData.byteLength);\n",
              "  }\n",
              "\n",
              "  // All done.\n",
              "  yield {\n",
              "    response: {\n",
              "      action: 'complete',\n",
              "    }\n",
              "  };\n",
              "}\n",
              "\n",
              "scope.google = scope.google || {};\n",
              "scope.google.colab = scope.google.colab || {};\n",
              "scope.google.colab._files = {\n",
              "  _uploadFiles,\n",
              "  _uploadFilesContinue,\n",
              "};\n",
              "})(self);\n",
              "</script> "
            ]
          },
          "metadata": {}
        },
        {
          "output_type": "stream",
          "name": "stdout",
          "text": [
            "Saving input.xlsx to input.xlsx\n"
          ]
        }
      ]
    },
    {
      "cell_type": "code",
      "source": [
        "import pandas as pd\n",
        "\n",
        "# Read the data from the Excel file, specifying the correct header row\n",
        "df = pd.read_excel('input.xlsx', header=1)  # This assumes the second row (index 1) is your header\n",
        "\n",
        "# Drop the 'Sites' column, as requested\n",
        "df = df.loc[:, df.columns != 'Sites']\n",
        "\n",
        "# Print the cleaned dataframe\n",
        "print(df.to_string())"
      ],
      "metadata": {
        "colab": {
          "base_uri": "https://localhost:8080/"
        },
        "id": "M4jsgsCUkWwP",
        "outputId": "8726623b-2dc5-48f6-8ccb-fdb4c06ca72b"
      },
      "execution_count": 49,
      "outputs": [
        {
          "output_type": "stream",
          "name": "stdout",
          "text": [
            "   1  2  3  4  5  6  7  8  9  10  11  12  13  14  15  16  17  18  19  20\n",
            "0  0  1  1  0  0  0  0  0  0   0   0   0   0   0   0   0   0   0   0   0\n",
            "1  1  1  0  0  0  1  1  0  0   0   0   0   0   0   0   0   0   0   0   0\n",
            "2  0  0  1  1  1  0  0  1  0   0   0   0   0   0   0   0   0   0   0   0\n",
            "3  0  0  0  0  0  0  1  1  0   1   1   1   1   0   0   0   0   0   0   0\n",
            "4  0  0  0  0  0  0  0  0  0   0   1   1   1   0   0   1   1   0   0   0\n",
            "5  0  0  0  0  0  0  0  0  0   1   0   1   0   0   1   1   0   0   0   0\n",
            "6  0  0  0  0  0  0  0  0  0   0   0   0   1   0   0   0   1   0   0   0\n",
            "7  0  0  0  0  0  0  0  0  1   0   0   0   0   1   0   0   0   1   0   0\n",
            "8  0  0  0  0  0  0  0  0  0   0   0   0   0   1   1   0   0   1   1   0\n",
            "9  0  0  0  0  0  0  0  0  0   0   0   0   0   0   0   0   1   0   1   1\n"
          ]
        }
      ]
    },
    {
      "cell_type": "code",
      "source": [
        "# Create a list 'sites' with numbers from 0 to the number of rows in the dataframe\n",
        "sites = list(range(0, len(df)))\n",
        "# Print the list 'sites' to verify\n",
        "print(\"sites\",sites)\n",
        "# Create a list 'districts' with numbers from 0 to the number of columns in the dataframe\n",
        "districts = list(range(0, len(df.columns)))\n",
        "# Print the list 'districts' to verify\n",
        "print(\"districts:\",districts)\n",
        "# Export the dataframe to a CSV file and open it in an editor\n",
        "#df.to_csv('output.csv')"
      ],
      "metadata": {
        "colab": {
          "base_uri": "https://localhost:8080/"
        },
        "id": "9Vd-Eo8Zpmyf",
        "outputId": "7c4a028c-a0e7-418e-88fa-dc6470a713e5"
      },
      "execution_count": 55,
      "outputs": [
        {
          "output_type": "stream",
          "name": "stdout",
          "text": [
            "sites [0, 1, 2, 3, 4, 5, 6, 7, 8, 9]\n",
            "districts: [0, 1, 2, 3, 4, 5, 6, 7, 8, 9, 10, 11, 12, 13, 14, 15, 16, 17, 18, 19]\n"
          ]
        }
      ]
    },
    {
      "cell_type": "code",
      "source": [
        "import numpy as np\n",
        "\n",
        "# Create the 'cover' array with the same shape as the dataframe\n",
        "cover = np.zeros((len(sites), len(districts)), dtype=int)\n",
        "\n",
        "# Iterate through the dataframe to fill the 'cover' array\n",
        "for i in range(len(sites)):\n",
        "    for j in range(len(districts)):\n",
        "        cover[i][j] = df.iloc[i, j]  # Get the value from the dataframe and assign it to the cover array\n",
        "\n",
        "# Print the 'cover' array to verify\n",
        "print(\"cover array:\")\n",
        "print(cover)"
      ],
      "metadata": {
        "colab": {
          "base_uri": "https://localhost:8080/"
        },
        "id": "fLhPgdfMyV29",
        "outputId": "ae0a63fd-5c07-4628-f15f-73772c1fbe8c"
      },
      "execution_count": 57,
      "outputs": [
        {
          "output_type": "stream",
          "name": "stdout",
          "text": [
            "cover array:\n",
            "[[0 1 1 0 0 0 0 0 0 0 0 0 0 0 0 0 0 0 0 0]\n",
            " [1 1 0 0 0 1 1 0 0 0 0 0 0 0 0 0 0 0 0 0]\n",
            " [0 0 1 1 1 0 0 1 0 0 0 0 0 0 0 0 0 0 0 0]\n",
            " [0 0 0 0 0 0 1 1 0 1 1 1 1 0 0 0 0 0 0 0]\n",
            " [0 0 0 0 0 0 0 0 0 0 1 1 1 0 0 1 1 0 0 0]\n",
            " [0 0 0 0 0 0 0 0 0 1 0 1 0 0 1 1 0 0 0 0]\n",
            " [0 0 0 0 0 0 0 0 0 0 0 0 1 0 0 0 1 0 0 0]\n",
            " [0 0 0 0 0 0 0 0 1 0 0 0 0 1 0 0 0 1 0 0]\n",
            " [0 0 0 0 0 0 0 0 0 0 0 0 0 1 1 0 0 1 1 0]\n",
            " [0 0 0 0 0 0 0 0 0 0 0 0 0 0 0 0 1 0 1 1]]\n"
          ]
        }
      ]
    },
    {
      "cell_type": "code",
      "source": [
        "!pip install -q pyomo"
      ],
      "metadata": {
        "colab": {
          "base_uri": "https://localhost:8080/"
        },
        "id": "KjLUS5ABywRu",
        "outputId": "a9750fa8-c052-44e7-9c99-dc23be607fab"
      },
      "execution_count": 58,
      "outputs": [
        {
          "output_type": "stream",
          "name": "stdout",
          "text": [
            "\u001b[?25l   \u001b[90m━━━━━━━━━━━━━━━━━━━━━━━━━━━━━━━━━━━━━━━━\u001b[0m \u001b[32m0.0/13.3 MB\u001b[0m \u001b[31m?\u001b[0m eta \u001b[36m-:--:--\u001b[0m\r\u001b[2K   \u001b[91m━━━━━━━━━━━━━━\u001b[0m\u001b[90m╺\u001b[0m\u001b[90m━━━━━━━━━━━━━━━━━━━━━━━━━\u001b[0m \u001b[32m4.8/13.3 MB\u001b[0m \u001b[31m144.7 MB/s\u001b[0m eta \u001b[36m0:00:01\u001b[0m\r\u001b[2K   \u001b[91m━━━━━━━━━━━━━━━━━━━━━━━━━━━━━━\u001b[0m\u001b[91m╸\u001b[0m\u001b[90m━━━━━━━━━\u001b[0m \u001b[32m10.3/13.3 MB\u001b[0m \u001b[31m148.3 MB/s\u001b[0m eta \u001b[36m0:00:01\u001b[0m\r\u001b[2K   \u001b[91m━━━━━━━━━━━━━━━━━━━━━━━━━━━━━━━━━━━━━━━\u001b[0m\u001b[91m╸\u001b[0m \u001b[32m13.3/13.3 MB\u001b[0m \u001b[31m161.8 MB/s\u001b[0m eta \u001b[36m0:00:01\u001b[0m\r\u001b[2K   \u001b[91m━━━━━━━━━━━━━━━━━━━━━━━━━━━━━━━━━━━━━━━\u001b[0m\u001b[91m╸\u001b[0m \u001b[32m13.3/13.3 MB\u001b[0m \u001b[31m161.8 MB/s\u001b[0m eta \u001b[36m0:00:01\u001b[0m\r\u001b[2K   \u001b[90m━━━━━━━━━━━━━━━━━━━━━━━━━━━━━━━━━━━━━━━━\u001b[0m \u001b[32m13.3/13.3 MB\u001b[0m \u001b[31m82.1 MB/s\u001b[0m eta \u001b[36m0:00:00\u001b[0m\n",
            "\u001b[?25h\u001b[?25l   \u001b[90m━━━━━━━━━━━━━━━━━━━━━━━━━━━━━━━━━━━━━━━━\u001b[0m \u001b[32m0.0/49.6 kB\u001b[0m \u001b[31m?\u001b[0m eta \u001b[36m-:--:--\u001b[0m\r\u001b[2K   \u001b[90m━━━━━━━━━━━━━━━━━━━━━━━━━━━━━━━━━━━━━━━━\u001b[0m \u001b[32m49.6/49.6 kB\u001b[0m \u001b[31m3.8 MB/s\u001b[0m eta \u001b[36m0:00:00\u001b[0m\n",
            "\u001b[?25h"
          ]
        }
      ]
    },
    {
      "cell_type": "code",
      "source": [
        "!apt-get install -y -qq coinor-cbc"
      ],
      "metadata": {
        "colab": {
          "base_uri": "https://localhost:8080/"
        },
        "id": "fTef0yo1y2E1",
        "outputId": "d81847d1-3a04-449c-f8df-86657e19e484"
      },
      "execution_count": 59,
      "outputs": [
        {
          "output_type": "stream",
          "name": "stdout",
          "text": [
            "Selecting previously unselected package coinor-libcoinutils3v5:amd64.\n",
            "(Reading database ... 123623 files and directories currently installed.)\n",
            "Preparing to unpack .../0-coinor-libcoinutils3v5_2.11.4+repack1-2_amd64.deb ...\n",
            "Unpacking coinor-libcoinutils3v5:amd64 (2.11.4+repack1-2) ...\n",
            "Selecting previously unselected package coinor-libosi1v5:amd64.\n",
            "Preparing to unpack .../1-coinor-libosi1v5_0.108.6+repack1-2_amd64.deb ...\n",
            "Unpacking coinor-libosi1v5:amd64 (0.108.6+repack1-2) ...\n",
            "Selecting previously unselected package coinor-libclp1.\n",
            "Preparing to unpack .../2-coinor-libclp1_1.17.5+repack1-1_amd64.deb ...\n",
            "Unpacking coinor-libclp1 (1.17.5+repack1-1) ...\n",
            "Selecting previously unselected package coinor-libcgl1:amd64.\n",
            "Preparing to unpack .../3-coinor-libcgl1_0.60.3+repack1-3_amd64.deb ...\n",
            "Unpacking coinor-libcgl1:amd64 (0.60.3+repack1-3) ...\n",
            "Selecting previously unselected package coinor-libcbc3:amd64.\n",
            "Preparing to unpack .../4-coinor-libcbc3_2.10.7+ds1-1_amd64.deb ...\n",
            "Unpacking coinor-libcbc3:amd64 (2.10.7+ds1-1) ...\n",
            "Selecting previously unselected package coinor-cbc.\n",
            "Preparing to unpack .../5-coinor-cbc_2.10.7+ds1-1_amd64.deb ...\n",
            "Unpacking coinor-cbc (2.10.7+ds1-1) ...\n",
            "Setting up coinor-libcoinutils3v5:amd64 (2.11.4+repack1-2) ...\n",
            "Setting up coinor-libosi1v5:amd64 (0.108.6+repack1-2) ...\n",
            "Setting up coinor-libclp1 (1.17.5+repack1-1) ...\n",
            "Setting up coinor-libcgl1:amd64 (0.60.3+repack1-3) ...\n",
            "Setting up coinor-libcbc3:amd64 (2.10.7+ds1-1) ...\n",
            "Setting up coinor-cbc (2.10.7+ds1-1) ...\n",
            "Processing triggers for man-db (2.10.2-1) ...\n",
            "Processing triggers for libc-bin (2.35-0ubuntu3.4) ...\n",
            "/sbin/ldconfig.real: /usr/local/lib/libtcm.so.1 is not a symbolic link\n",
            "\n",
            "/sbin/ldconfig.real: /usr/local/lib/libtbbbind.so.3 is not a symbolic link\n",
            "\n",
            "/sbin/ldconfig.real: /usr/local/lib/libtbb.so.12 is not a symbolic link\n",
            "\n",
            "/sbin/ldconfig.real: /usr/local/lib/libtbbbind_2_0.so.3 is not a symbolic link\n",
            "\n",
            "/sbin/ldconfig.real: /usr/local/lib/libur_adapter_opencl.so.0 is not a symbolic link\n",
            "\n",
            "/sbin/ldconfig.real: /usr/local/lib/libtbbbind_2_5.so.3 is not a symbolic link\n",
            "\n",
            "/sbin/ldconfig.real: /usr/local/lib/libtbbmalloc.so.2 is not a symbolic link\n",
            "\n",
            "/sbin/ldconfig.real: /usr/local/lib/libur_adapter_level_zero.so.0 is not a symbolic link\n",
            "\n",
            "/sbin/ldconfig.real: /usr/local/lib/libumf.so.0 is not a symbolic link\n",
            "\n",
            "/sbin/ldconfig.real: /usr/local/lib/libhwloc.so.15 is not a symbolic link\n",
            "\n",
            "/sbin/ldconfig.real: /usr/local/lib/libtbbmalloc_proxy.so.2 is not a symbolic link\n",
            "\n",
            "/sbin/ldconfig.real: /usr/local/lib/libtcm_debug.so.1 is not a symbolic link\n",
            "\n",
            "/sbin/ldconfig.real: /usr/local/lib/libur_loader.so.0 is not a symbolic link\n",
            "\n"
          ]
        }
      ]
    },
    {
      "cell_type": "code",
      "source": [
        "import pyomo.environ as pyo"
      ],
      "metadata": {
        "id": "XSmcs5ibXm7b"
      },
      "execution_count": 60,
      "outputs": []
    },
    {
      "cell_type": "code",
      "source": [
        "model = pyo.ConcreteModel()"
      ],
      "metadata": {
        "collapsed": true,
        "id": "M7D5CgmFaYN_"
      },
      "execution_count": 62,
      "outputs": []
    },
    {
      "cell_type": "code",
      "source": [
        "model.x = pyo.Var(sites, within=pyo.Binary)\n",
        "model.x.pprint()"
      ],
      "metadata": {
        "colab": {
          "base_uri": "https://localhost:8080/"
        },
        "id": "4SfpB2wAzGCV",
        "outputId": "7257adc3-8a4d-4db7-e88a-f74996fc5101"
      },
      "execution_count": 63,
      "outputs": [
        {
          "output_type": "stream",
          "name": "stdout",
          "text": [
            "x : Size=10, Index={0, 1, 2, 3, 4, 5, 6, 7, 8, 9}\n",
            "    Key : Lower : Value : Upper : Fixed : Stale : Domain\n",
            "      0 :     0 :  None :     1 : False :  True : Binary\n",
            "      1 :     0 :  None :     1 : False :  True : Binary\n",
            "      2 :     0 :  None :     1 : False :  True : Binary\n",
            "      3 :     0 :  None :     1 : False :  True : Binary\n",
            "      4 :     0 :  None :     1 : False :  True : Binary\n",
            "      5 :     0 :  None :     1 : False :  True : Binary\n",
            "      6 :     0 :  None :     1 : False :  True : Binary\n",
            "      7 :     0 :  None :     1 : False :  True : Binary\n",
            "      8 :     0 :  None :     1 : False :  True : Binary\n",
            "      9 :     0 :  None :     1 : False :  True : Binary\n"
          ]
        }
      ]
    },
    {
      "cell_type": "code",
      "source": [
        "model.obj = pyo.Objective(\n",
        "    expr = sum(model.x[i] for i in sites),\n",
        "    sense = pyo.minimize )\n",
        "\n",
        "model.obj.pprint()"
      ],
      "metadata": {
        "colab": {
          "base_uri": "https://localhost:8080/"
        },
        "id": "rL14K3p_zkkD",
        "outputId": "c2fca5ed-dc72-48b6-89bc-8c5d60be3114"
      },
      "execution_count": 64,
      "outputs": [
        {
          "output_type": "stream",
          "name": "stdout",
          "text": [
            "obj : Size=1, Index=None, Active=True\n",
            "    Key  : Active : Sense    : Expression\n",
            "    None :   True : minimize : x[0] + x[1] + x[2] + x[3] + x[4] + x[5] + x[6] + x[7] + x[8] + x[9]\n"
          ]
        }
      ]
    },
    {
      "cell_type": "code",
      "source": [
        "model.constraint_coverage = pyo.ConstraintList()\n",
        "for j in districts:\n",
        "  model.constraint_coverage.add(sum(model.x[i] for i in sites if cover[i][j]>0) >=1)\n",
        "model.constraint_coverage.pprint()"
      ],
      "metadata": {
        "colab": {
          "base_uri": "https://localhost:8080/"
        },
        "id": "2anrtJKkzt5q",
        "outputId": "c71bcee8-3c42-48c4-e9d4-9c6672457ffd"
      },
      "execution_count": 66,
      "outputs": [
        {
          "output_type": "stream",
          "name": "stderr",
          "text": [
            "WARNING:pyomo.core:Implicitly replacing the Component attribute constraint_coverage (type=<class 'pyomo.core.base.constraint.ConstraintList'>) on block unknown with a new Component (type=<class 'pyomo.core.base.constraint.ConstraintList'>).\n",
            "This is usually indicative of a modelling error.\n",
            "To avoid this warning, use block.del_component() and block.add_component().\n"
          ]
        },
        {
          "output_type": "stream",
          "name": "stdout",
          "text": [
            "constraint_coverage : Size=20, Index={1, 2, 3, 4, 5, 6, 7, 8, 9, 10, 11, 12, 13, 14, 15, 16, 17, 18, 19, 20}, Active=True\n",
            "    Key : Lower : Body               : Upper : Active\n",
            "      1 :   1.0 :               x[1] :  +Inf :   True\n",
            "      2 :   1.0 :        x[0] + x[1] :  +Inf :   True\n",
            "      3 :   1.0 :        x[0] + x[2] :  +Inf :   True\n",
            "      4 :   1.0 :               x[2] :  +Inf :   True\n",
            "      5 :   1.0 :               x[2] :  +Inf :   True\n",
            "      6 :   1.0 :               x[1] :  +Inf :   True\n",
            "      7 :   1.0 :        x[1] + x[3] :  +Inf :   True\n",
            "      8 :   1.0 :        x[2] + x[3] :  +Inf :   True\n",
            "      9 :   1.0 :               x[7] :  +Inf :   True\n",
            "     10 :   1.0 :        x[3] + x[5] :  +Inf :   True\n",
            "     11 :   1.0 :        x[3] + x[4] :  +Inf :   True\n",
            "     12 :   1.0 : x[3] + x[4] + x[5] :  +Inf :   True\n",
            "     13 :   1.0 : x[3] + x[4] + x[6] :  +Inf :   True\n",
            "     14 :   1.0 :        x[7] + x[8] :  +Inf :   True\n",
            "     15 :   1.0 :        x[5] + x[8] :  +Inf :   True\n",
            "     16 :   1.0 :        x[4] + x[5] :  +Inf :   True\n",
            "     17 :   1.0 : x[4] + x[6] + x[9] :  +Inf :   True\n",
            "     18 :   1.0 :        x[7] + x[8] :  +Inf :   True\n",
            "     19 :   1.0 :        x[8] + x[9] :  +Inf :   True\n",
            "     20 :   1.0 :               x[9] :  +Inf :   True\n"
          ]
        }
      ]
    },
    {
      "cell_type": "code",
      "source": [
        "opt = pyo.SolverFactory('cbc')\n",
        "model.pprint()"
      ],
      "metadata": {
        "colab": {
          "base_uri": "https://localhost:8080/"
        },
        "id": "FFnZQFwz0-9M",
        "outputId": "7a4cfb3b-b5b3-475d-f8a3-27afdfae6063"
      },
      "execution_count": 67,
      "outputs": [
        {
          "output_type": "stream",
          "name": "stdout",
          "text": [
            "1 Var Declarations\n",
            "    x : Size=10, Index={0, 1, 2, 3, 4, 5, 6, 7, 8, 9}\n",
            "        Key : Lower : Value : Upper : Fixed : Stale : Domain\n",
            "          0 :     0 :  None :     1 : False :  True : Binary\n",
            "          1 :     0 :  None :     1 : False :  True : Binary\n",
            "          2 :     0 :  None :     1 : False :  True : Binary\n",
            "          3 :     0 :  None :     1 : False :  True : Binary\n",
            "          4 :     0 :  None :     1 : False :  True : Binary\n",
            "          5 :     0 :  None :     1 : False :  True : Binary\n",
            "          6 :     0 :  None :     1 : False :  True : Binary\n",
            "          7 :     0 :  None :     1 : False :  True : Binary\n",
            "          8 :     0 :  None :     1 : False :  True : Binary\n",
            "          9 :     0 :  None :     1 : False :  True : Binary\n",
            "\n",
            "1 Objective Declarations\n",
            "    obj : Size=1, Index=None, Active=True\n",
            "        Key  : Active : Sense    : Expression\n",
            "        None :   True : minimize : x[0] + x[1] + x[2] + x[3] + x[4] + x[5] + x[6] + x[7] + x[8] + x[9]\n",
            "\n",
            "1 Constraint Declarations\n",
            "    constraint_coverage : Size=20, Index={1, 2, 3, 4, 5, 6, 7, 8, 9, 10, 11, 12, 13, 14, 15, 16, 17, 18, 19, 20}, Active=True\n",
            "        Key : Lower : Body               : Upper : Active\n",
            "          1 :   1.0 :               x[1] :  +Inf :   True\n",
            "          2 :   1.0 :        x[0] + x[1] :  +Inf :   True\n",
            "          3 :   1.0 :        x[0] + x[2] :  +Inf :   True\n",
            "          4 :   1.0 :               x[2] :  +Inf :   True\n",
            "          5 :   1.0 :               x[2] :  +Inf :   True\n",
            "          6 :   1.0 :               x[1] :  +Inf :   True\n",
            "          7 :   1.0 :        x[1] + x[3] :  +Inf :   True\n",
            "          8 :   1.0 :        x[2] + x[3] :  +Inf :   True\n",
            "          9 :   1.0 :               x[7] :  +Inf :   True\n",
            "         10 :   1.0 :        x[3] + x[5] :  +Inf :   True\n",
            "         11 :   1.0 :        x[3] + x[4] :  +Inf :   True\n",
            "         12 :   1.0 : x[3] + x[4] + x[5] :  +Inf :   True\n",
            "         13 :   1.0 : x[3] + x[4] + x[6] :  +Inf :   True\n",
            "         14 :   1.0 :        x[7] + x[8] :  +Inf :   True\n",
            "         15 :   1.0 :        x[5] + x[8] :  +Inf :   True\n",
            "         16 :   1.0 :        x[4] + x[5] :  +Inf :   True\n",
            "         17 :   1.0 : x[4] + x[6] + x[9] :  +Inf :   True\n",
            "         18 :   1.0 :        x[7] + x[8] :  +Inf :   True\n",
            "         19 :   1.0 :        x[8] + x[9] :  +Inf :   True\n",
            "         20 :   1.0 :               x[9] :  +Inf :   True\n",
            "\n",
            "3 Declarations: x obj constraint_coverage\n"
          ]
        }
      ]
    },
    {
      "cell_type": "code",
      "source": [
        "opt_solution = opt.solve(model)"
      ],
      "metadata": {
        "id": "-8VpT6rN1JGa"
      },
      "execution_count": 68,
      "outputs": []
    },
    {
      "cell_type": "code",
      "source": [
        "# Print the values of the decision variables\n",
        "print(\"\\nEMS sites opening:\")\n",
        "for i in sites:\n",
        "    print(f\"{i}: {model.x[i].value}\")\n",
        "\n",
        "print(f\"Total number of sites: {model.obj()}\")"
      ],
      "metadata": {
        "colab": {
          "base_uri": "https://localhost:8080/"
        },
        "id": "euoLUn_K1OmJ",
        "outputId": "a2eb2a20-f2a8-4bd4-c614-e76f2bc96310"
      },
      "execution_count": 70,
      "outputs": [
        {
          "output_type": "stream",
          "name": "stdout",
          "text": [
            "\n",
            "EMS sites opening:\n",
            "0: 0.0\n",
            "1: 1.0\n",
            "2: 1.0\n",
            "3: 1.0\n",
            "4: 0.0\n",
            "5: 1.0\n",
            "6: 0.0\n",
            "7: 1.0\n",
            "8: 0.0\n",
            "9: 1.0\n",
            "Total number of sites: 6.0\n"
          ]
        }
      ]
    }
  ]
}