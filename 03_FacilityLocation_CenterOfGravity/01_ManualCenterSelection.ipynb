{
  "nbformat": 4,
  "nbformat_minor": 0,
  "metadata": {
    "colab": {
      "provenance": [],
      "authorship_tag": "ABX9TyOW0ATAi71ZVqFzv5utb3b5",
      "include_colab_link": true
    },
    "kernelspec": {
      "name": "python3",
      "display_name": "Python 3"
    },
    "language_info": {
      "name": "python"
    }
  },
  "cells": [
    {
      "cell_type": "markdown",
      "metadata": {
        "id": "view-in-github",
        "colab_type": "text"
      },
      "source": [
        "<a href=\"https://colab.research.google.com/github/ozturkcemal/SupplyChainAnalytics/blob/main/03_FacilityLocation_CenterOfGravity/ManualCenterSelection.ipynb\" target=\"_parent\"><img src=\"https://colab.research.google.com/assets/colab-badge.svg\" alt=\"Open In Colab\"/></a>"
      ]
    },
    {
      "cell_type": "code",
      "execution_count": 5,
      "metadata": {
        "id": "J1rkafw_UfPk"
      },
      "outputs": [],
      "source": [
        "# Import necessary libraries\n",
        "import matplotlib.pyplot as plt\n",
        "import seaborn as sns\n",
        "import pandas as pd\n",
        "import numpy as np"
      ]
    },
    {
      "cell_type": "markdown",
      "source": [
        "## Haversine Formula\n",
        "\n",
        "The Haversine formula is used to calculate the distance between two points on the Earth's surface given their latitude and longitude.\n",
        "\n",
        "$\n",
        "d = 2r \\times \\arcsin\\left(\\sqrt{\\sin^2\\left(\\frac{\\Delta\\phi}{2}\\right) + \\cos(\\phi_1) \\cdot \\cos(\\phi_2) \\cdot \\sin^2\\left(\\frac{\\Delta\\lambda}{2}\\right)}\\right)\n",
        "$\n",
        "\n",
        "Where:\n",
        "\n",
        "- $\\phi_1$ and $\\phi_2$ are the latitudes of the two points in radians.\n",
        "- $\\lambda_1$ and $\\lambda_2$ are the longitudes of the two points in radians.\n",
        "- $\\Delta\\phi = \\phi_2 - \\phi_1$ is the difference in latitudes.\n",
        "- $\\Delta\\lambda = \\lambda_2 - \\lambda_1$ is the difference in longitudes.\n",
        "- $r$ is the Earth’s radius (mean radius = 6,371 kilometers)."
      ],
      "metadata": {
        "id": "fAo1ptoCXz1L"
      }
    },
    {
      "cell_type": "code",
      "source": [
        "\n",
        "# Haversine function to compute the distance in kilometers\n",
        "def haversine(lat1, lon1, lat2, lon2):\n",
        "    # Convert degrees to radians\n",
        "    lat1, lon1, lat2, lon2 = map(np.radians, [lat1, lon1, lat2, lon2])\n",
        "\n",
        "    # Haversine formula\n",
        "    dlat = lat2 - lat1\n",
        "    dlon = lon2 - lon1\n",
        "    a = np.sin(dlat / 2) ** 2 + np.cos(lat1) * np.cos(lat2) * np.sin(dlon / 2) ** 2\n",
        "    c = 2 * np.arcsin(np.sqrt(a))\n",
        "\n",
        "    # Radius of Earth in kilometers\n",
        "    r = 6371  # kilometers\n",
        "    return c * r"
      ],
      "metadata": {
        "id": "R5Ooajd8WtJf"
      },
      "execution_count": 6,
      "outputs": []
    },
    {
      "cell_type": "markdown",
      "source": [],
      "metadata": {
        "id": "TSTUrUebZj8N"
      }
    },
    {
      "cell_type": "code",
      "source": [
        "# Data from the table\n",
        "data = {\n",
        "    'City #': list(range(1, 26)),  # Create City # from 1 to 25\n",
        "    'Latitude': [-16.6, -16.7, -16.8, -17, -17, -17.2, -17.5, -17.4, -17.5, -17.8, -17.9, -18, -18.4, -18.9, -19.3,\n",
        "                 -19.4, -19.4, -19.9, -20.3, -21.2, -21.6, -22.6, -23.4, -24, -24.9],\n",
        "    'Longitude': [154.8, 156.8, 153.2, 154, 152, 144.9, 155.7, 147.1, 141.1, 155.1, 153.8, 144.6, 142.4, 156.8, 148.3,\n",
        "                  152.9, 142.8, 143.7, 152.5, 143.7, 155.6, 140.1, 155.8, 144.4, 146.4],\n",
        "    'Population': [1655000, 2300000, 601000, 1385000, 1230000, 665000, 664000, 885000, 1116000, 636000, 1200000, 148000,\n",
        "                   854000, 1473000, 615000, 1145000, 627000, 542000, 379000, 964000, 546000, 706000, 727000, 669000, 931000],\n",
        "    'Distance_to_Capital': [0] * 25  # Assign default value of 0 for Distance_to_Capital\n",
        "}\n",
        "\n",
        "# Create a pandas DataFrame\n",
        "df = pd.DataFrame(data)"
      ],
      "metadata": {
        "id": "zGctZJfpZngp"
      },
      "execution_count": 7,
      "outputs": []
    },
    {
      "cell_type": "code",
      "source": [
        "# Calculate the averages for Capital Location\n",
        "Capital_Latitude = df['Latitude'].mean()\n",
        "Capital_Longitude = df['Longitude'].mean()\n",
        "\n",
        "# Compute the distance to the capital for each city using the Haversine formula\n",
        "df['Distance_to_Capital'] = df.apply(\n",
        "    lambda row: haversine(row['Latitude'], row['Longitude'], Capital_Latitude, Capital_Longitude), axis=1)\n",
        "\n",
        "# Compute the Weighted_Average_Distance\n",
        "weighted_distance_sum = (df['Population'] * df['Distance_to_Capital']).sum()  # Sum of (Population * distance)\n",
        "total_population = df['Population'].sum()  # Total population\n",
        "Weighted_Average_Distance = weighted_distance_sum / total_population\n",
        "\n",
        "# Calculate the percentage of cities within 500 km\n",
        "cities_within_500km = df[df['Distance_to_Capital'] <= 500].shape[0]\n",
        "total_cities = df.shape[0]\n",
        "percent_cities_within_500km = (cities_within_500km / total_cities) * 100\n",
        "\n",
        "# Output the results\n",
        "print(f\"Weighted Average Distance to Capital: {Weighted_Average_Distance:.2f} km\")\n",
        "print(f\"Percentage of Cities within 500 km of the Capital: {percent_cities_within_500km:.2f}%\")"
      ],
      "metadata": {
        "colab": {
          "base_uri": "https://localhost:8080/"
        },
        "id": "HCPR-apwaWJI",
        "outputId": "83a91a22-ca6b-4cf6-e4e8-6319ae16842a"
      },
      "execution_count": 8,
      "outputs": [
        {
          "output_type": "stream",
          "name": "stdout",
          "text": [
            "Weighted Average Distance to Capital: 625.36 km\n",
            "Percentage of Cities within 500 km of the Capital: 28.00%\n"
          ]
        }
      ]
    },
    {
      "cell_type": "code",
      "source": [
        "# Initialize the plot\n",
        "plt.figure(figsize=(10, 6))\n",
        "\n",
        "# Create the scatter plot using seaborn for cities\n",
        "sns.scatterplot(x='Latitude', y='Longitude', size='Population', data=df, sizes=(20, 1000), legend=False)\n",
        "\n",
        "# Plot the capital location with a distinct marker and label it\n",
        "plt.scatter(Capital_Latitude, Capital_Longitude, color='red', s=300, marker='X', label='Capital')\n",
        "\n",
        "# Add labels to each point for City #\n",
        "for i in range(df.shape[0]):\n",
        "    plt.text(df['Latitude'][i], df['Longitude'][i], f\"City {df['City #'][i]}\", fontsize=9, ha='right')\n",
        "\n",
        "# Add labels and title\n",
        "plt.title(\"Scatter Plot of Latitude vs Longitude with City # Labels and Capital Location\", fontsize=14)\n",
        "plt.xlabel(\"Latitude\", fontsize=12)\n",
        "plt.ylabel(\"Longitude\", fontsize=12)\n",
        "\n",
        "# Add legend, forcing the label to be displayed\n",
        "plt.legend(loc='upper right')\n",
        "\n",
        "# Show the plot\n",
        "plt.show()\n",
        "\n",
        "# Print the DataFrame to see the updated Distance_to_Capital column\n",
        "print(df)"
      ],
      "metadata": {
        "id": "JlgKCxrEadGc"
      },
      "execution_count": null,
      "outputs": []
    },
    {
      "cell_type": "code",
      "source": [
        "# Export the DataFrame to a CSV file\n",
        "output_file = 'city_data_with_distances.csv'\n",
        "df.to_csv(output_file, index=False)\n",
        "\n",
        "print(f\"DataFrame exported to {output_file}\")"
      ],
      "metadata": {
        "id": "r6grjeyZai2D"
      },
      "execution_count": null,
      "outputs": []
    }
  ]
}
