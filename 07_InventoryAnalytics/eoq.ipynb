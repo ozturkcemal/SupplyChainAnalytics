{
  "nbformat": 4,
  "nbformat_minor": 0,
  "metadata": {
    "colab": {
      "provenance": [],
      "authorship_tag": "ABX9TyNhVsDRLaTgVnwmJbFntClH",
      "include_colab_link": true
    },
    "kernelspec": {
      "name": "python3",
      "display_name": "Python 3"
    },
    "language_info": {
      "name": "python"
    }
  },
  "cells": [
    {
      "cell_type": "markdown",
      "metadata": {
        "id": "view-in-github",
        "colab_type": "text"
      },
      "source": [
        "<a href=\"https://colab.research.google.com/github/ozturkcemal/SupplyChainAnalytics/blob/main/07_InventoryAnalytics/eoq.ipynb\" target=\"_parent\"><img src=\"https://colab.research.google.com/assets/colab-badge.svg\" alt=\"Open In Colab\"/></a>"
      ]
    },
    {
      "cell_type": "code",
      "source": [
        "#install stockpyl inventory optimization package https://pypi.org/project/stockpyl/\n",
        "!pip install stockpyl"
      ],
      "metadata": {
        "id": "bkwRMUcp0UoM"
      },
      "execution_count": null,
      "outputs": []
    },
    {
      "cell_type": "code",
      "source": [
        "#import the package and bring the content\n",
        "import stockpyl"
      ],
      "metadata": {
        "id": "C4yiUsHC0X6V"
      },
      "execution_count": 6,
      "outputs": []
    },
    {
      "cell_type": "code",
      "source": [
        "# bringing eoq module from the stockpyl package and importing the economic_order_quantity function of the module\n",
        "from stockpyl.eoq import economic_order_quantity"
      ],
      "metadata": {
        "id": "Wpteli8I07hy"
      },
      "execution_count": 8,
      "outputs": []
    },
    {
      "cell_type": "markdown",
      "source": [
        "*Providing parameters; fixed cost, holding cost and demand rate of the instance*"
      ],
      "metadata": {
        "id": "bMWegOqC8f8Q"
      }
    },
    {
      "cell_type": "code",
      "source": [
        "fixedCost=float(input(\"Enter the fixed ordering cost: \"))"
      ],
      "metadata": {
        "colab": {
          "base_uri": "https://localhost:8080/"
        },
        "id": "nNo_cjXU2n8v",
        "outputId": "5d191199-3cfb-444b-9a92-36bcc7ba4a7f"
      },
      "execution_count": 22,
      "outputs": [
        {
          "name": "stdout",
          "output_type": "stream",
          "text": [
            "Enter the fixed ordering cost: 8\n"
          ]
        }
      ]
    },
    {
      "cell_type": "code",
      "source": [
        "holdingCost=float(input(\"Enter the holding cost: \"))"
      ],
      "metadata": {
        "colab": {
          "base_uri": "https://localhost:8080/"
        },
        "id": "nG54a9Tu4YPd",
        "outputId": "1e388200-a5ea-41b9-cc27-d51001a2bb96"
      },
      "execution_count": 21,
      "outputs": [
        {
          "name": "stdout",
          "output_type": "stream",
          "text": [
            "Enter the holding cost: 0.225\n"
          ]
        }
      ]
    },
    {
      "cell_type": "code",
      "source": [
        "demandRate=float(input(\"Enter the demand rate: \"))"
      ],
      "metadata": {
        "colab": {
          "base_uri": "https://localhost:8080/"
        },
        "id": "sqRNOgrT2vVy",
        "outputId": "48063676-c14b-41c7-ef74-f17bc0c0b4e5"
      },
      "execution_count": 23,
      "outputs": [
        {
          "name": "stdout",
          "output_type": "stream",
          "text": [
            "Enter the demand rate: 1300\n"
          ]
        }
      ]
    },
    {
      "cell_type": "markdown",
      "source": [
        "Calling the EOQ function with given parameters"
      ],
      "metadata": {
        "id": "bRJY269E8tiv"
      }
    },
    {
      "cell_type": "code",
      "source": [
        "Q,cost=economic_order_quantity(fixedCost,holdingCost,demandRate)\n",
        "print(\"The economic order quantity is\",Q)\n",
        "print(\"The cost of inventory is\",cost)"
      ],
      "metadata": {
        "colab": {
          "base_uri": "https://localhost:8080/"
        },
        "id": "kMC1wsYM1BrF",
        "outputId": "6472842b-ec7e-430e-c787-187e90bfddbf"
      },
      "execution_count": 24,
      "outputs": [
        {
          "output_type": "stream",
          "name": "stdout",
          "text": [
            "The economic order quantity is 304.0467800264368\n",
            "The cost of inventory is 68.41052550594829\n"
          ]
        }
      ]
    }
  ]
}