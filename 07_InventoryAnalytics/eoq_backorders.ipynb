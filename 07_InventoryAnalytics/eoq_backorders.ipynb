{
  "nbformat": 4,
  "nbformat_minor": 0,
  "metadata": {
    "colab": {
      "provenance": [],
      "authorship_tag": "ABX9TyOzObEdAl3vRsYH3whYofgA",
      "include_colab_link": true
    },
    "kernelspec": {
      "name": "python3",
      "display_name": "Python 3"
    },
    "language_info": {
      "name": "python"
    }
  },
  "cells": [
    {
      "cell_type": "markdown",
      "metadata": {
        "id": "view-in-github",
        "colab_type": "text"
      },
      "source": [
        "<a href=\"https://colab.research.google.com/github/ozturkcemal/SupplyChainAnalytics/blob/main/07_InventoryAnalytics/eoq_backorders.ipynb\" target=\"_parent\"><img src=\"https://colab.research.google.com/assets/colab-badge.svg\" alt=\"Open In Colab\"/></a>"
      ]
    },
    {
      "cell_type": "code",
      "source": [
        "#install stockpyl inventory optimization package https://pypi.org/project/stockpyl/\n",
        "!pip install stockpyl"
      ],
      "metadata": {
        "id": "bkwRMUcp0UoM"
      },
      "execution_count": null,
      "outputs": []
    },
    {
      "cell_type": "code",
      "source": [
        "#import the package and bring the content\n",
        "import stockpyl"
      ],
      "metadata": {
        "id": "C4yiUsHC0X6V"
      },
      "execution_count": 2,
      "outputs": []
    },
    {
      "cell_type": "code",
      "source": [
        "# bringing eoq module from the stockpyl package and importing the economic_order_quantity function of the module\n",
        "from stockpyl.eoq import economic_order_quantity_with_backorders"
      ],
      "metadata": {
        "id": "Wpteli8I07hy"
      },
      "execution_count": 3,
      "outputs": []
    },
    {
      "cell_type": "markdown",
      "source": [
        "*Providing parameters; fixed cost, holding cost and demand rate of the instance*"
      ],
      "metadata": {
        "id": "bMWegOqC8f8Q"
      }
    },
    {
      "cell_type": "code",
      "source": [
        "fixedCost=float(input(\"Enter the fixed ordering cost: \"))"
      ],
      "metadata": {
        "colab": {
          "base_uri": "https://localhost:8080/"
        },
        "id": "nNo_cjXU2n8v",
        "outputId": "272eed10-ff75-4617-e0ae-86f972e9a40f"
      },
      "execution_count": 4,
      "outputs": [
        {
          "name": "stdout",
          "output_type": "stream",
          "text": [
            "Enter the fixed ordering cost: 8\n"
          ]
        }
      ]
    },
    {
      "cell_type": "code",
      "source": [
        "holdingCost=float(input(\"Enter the holding cost: \"))"
      ],
      "metadata": {
        "colab": {
          "base_uri": "https://localhost:8080/"
        },
        "id": "nG54a9Tu4YPd",
        "outputId": "ced2f385-e46e-42d5-e7a1-5de6fb7687df"
      },
      "execution_count": 5,
      "outputs": [
        {
          "name": "stdout",
          "output_type": "stream",
          "text": [
            "Enter the holding cost: 0.225\n"
          ]
        }
      ]
    },
    {
      "cell_type": "code",
      "source": [
        "stockOutCost=float(input(\"Enter the stock out cost: \"))"
      ],
      "metadata": {
        "colab": {
          "base_uri": "https://localhost:8080/"
        },
        "id": "CpWMJhPZqgll",
        "outputId": "8d67f528-e30f-4939-ca07-049dbf569326"
      },
      "execution_count": 6,
      "outputs": [
        {
          "name": "stdout",
          "output_type": "stream",
          "text": [
            "Enter the stock out cost: 5\n"
          ]
        }
      ]
    },
    {
      "cell_type": "code",
      "source": [
        "demandRate=float(input(\"Enter the demand rate: \"))"
      ],
      "metadata": {
        "colab": {
          "base_uri": "https://localhost:8080/"
        },
        "id": "sqRNOgrT2vVy",
        "outputId": "c319515b-3776-46c5-d587-c8fe54aa8d59"
      },
      "execution_count": 7,
      "outputs": [
        {
          "name": "stdout",
          "output_type": "stream",
          "text": [
            "Enter the demand rate: 1300\n"
          ]
        }
      ]
    },
    {
      "cell_type": "markdown",
      "source": [
        "Calling the EOQ function with given parameters"
      ],
      "metadata": {
        "id": "bRJY269E8tiv"
      }
    },
    {
      "cell_type": "code",
      "source": [
        "Q,s,cost=economic_order_quantity_with_backorders(fixedCost,holdingCost,stockOutCost,demandRate)\n",
        "print(\"The economic order quantity is\",Q)\n",
        "print(\"The stock out shortege rate is\",s)\n",
        "print(\"The cost of inventory is\",cost)"
      ],
      "metadata": {
        "colab": {
          "base_uri": "https://localhost:8080/"
        },
        "id": "kMC1wsYM1BrF",
        "outputId": "5499d178-4d48-467c-8cfb-1b8245c0dc9f"
      },
      "execution_count": 8,
      "outputs": [
        {
          "output_type": "stream",
          "name": "stdout",
          "text": [
            "The economic order quantity is 310.81255515896464\n",
            "The stock out shortege rate is 0.0430622009569378\n",
            "The cost of inventory is 66.92136355097325\n"
          ]
        }
      ]
    }
  ]
}