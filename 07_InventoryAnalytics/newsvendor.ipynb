{
  "nbformat": 4,
  "nbformat_minor": 0,
  "metadata": {
    "colab": {
      "provenance": [],
      "authorship_tag": "ABX9TyPczAejRsamZ1Kz5CSZV1JU",
      "include_colab_link": true
    },
    "kernelspec": {
      "name": "python3",
      "display_name": "Python 3"
    },
    "language_info": {
      "name": "python"
    }
  },
  "cells": [
    {
      "cell_type": "markdown",
      "metadata": {
        "id": "view-in-github",
        "colab_type": "text"
      },
      "source": [
        "<a href=\"https://colab.research.google.com/github/ozturkcemal/SupplyChainAnalytics/blob/main/07_InventoryAnalytics/newsvendor.ipynb\" target=\"_parent\"><img src=\"https://colab.research.google.com/assets/colab-badge.svg\" alt=\"Open In Colab\"/></a>"
      ]
    },
    {
      "cell_type": "code",
      "source": [
        "#install stockpyl inventory optimization package https://pypi.org/project/stockpyl/\n",
        "!pip install stockpyl"
      ],
      "metadata": {
        "id": "bkwRMUcp0UoM"
      },
      "execution_count": null,
      "outputs": []
    },
    {
      "cell_type": "code",
      "source": [
        "#import the package and bring the content\n",
        "import stockpyl"
      ],
      "metadata": {
        "id": "C4yiUsHC0X6V"
      },
      "execution_count": 2,
      "outputs": []
    },
    {
      "cell_type": "code",
      "source": [
        "# bringing eoq module from the stockpyl package and importing the economic_order_quantity function of the module\n",
        "from stockpyl.newsvendor import newsvendor_normal"
      ],
      "metadata": {
        "id": "Wpteli8I07hy"
      },
      "execution_count": 3,
      "outputs": []
    },
    {
      "cell_type": "markdown",
      "source": [
        "*Providing parameters; fixed cost, holding cost and demand rate of the instance*"
      ],
      "metadata": {
        "id": "bMWegOqC8f8Q"
      }
    },
    {
      "cell_type": "code",
      "source": [
        "holdingCost=float(input(\"Enter the holding cost: \"))"
      ],
      "metadata": {
        "colab": {
          "base_uri": "https://localhost:8080/"
        },
        "id": "nG54a9Tu4YPd",
        "outputId": "2a092c46-33b6-4a31-97d1-597dfd8783c4"
      },
      "execution_count": 10,
      "outputs": [
        {
          "name": "stdout",
          "output_type": "stream",
          "text": [
            "Enter the holding cost: 0.40\n"
          ]
        }
      ]
    },
    {
      "cell_type": "code",
      "source": [
        "stockoutCost=float(input(\"Enter the fstock out cost: \"))"
      ],
      "metadata": {
        "colab": {
          "base_uri": "https://localhost:8080/"
        },
        "id": "nNo_cjXU2n8v",
        "outputId": "0b07e7f1-cfe1-4ac8-e054-d69ca23f5ab9"
      },
      "execution_count": 5,
      "outputs": [
        {
          "name": "stdout",
          "output_type": "stream",
          "text": [
            "Enter the fstock out cost: 0.55\n"
          ]
        }
      ]
    },
    {
      "cell_type": "code",
      "source": [
        "demandMean=float(input(\"Enter the mean demand: \"))"
      ],
      "metadata": {
        "colab": {
          "base_uri": "https://localhost:8080/"
        },
        "id": "sqRNOgrT2vVy",
        "outputId": "2fe30f58-bc8a-4bed-c27b-a30dc0504ed6"
      },
      "execution_count": 6,
      "outputs": [
        {
          "name": "stdout",
          "output_type": "stream",
          "text": [
            "Enter the mean demand: 120\n"
          ]
        }
      ]
    },
    {
      "cell_type": "code",
      "source": [
        "demandStd=float(input(\"Enter the standard deviation of demand: \"))"
      ],
      "metadata": {
        "colab": {
          "base_uri": "https://localhost:8080/"
        },
        "id": "VXAgKm9FSdld",
        "outputId": "f7d80988-c328-4743-cd1d-2b2cbcdf0c29"
      },
      "execution_count": 7,
      "outputs": [
        {
          "name": "stdout",
          "output_type": "stream",
          "text": [
            "Enter the standard deviation of demand: 15\n"
          ]
        }
      ]
    },
    {
      "cell_type": "markdown",
      "source": [
        "Calling the newsvendor function with given parameters"
      ],
      "metadata": {
        "id": "bRJY269E8tiv"
      }
    },
    {
      "cell_type": "code",
      "source": [
        "stockLevel,cost=newsvendor_normal(holdingCost,stockoutCost,demandMean,demandStd)\n",
        "print(\"The optimal stock level\",stockLevel)\n",
        "print(\"The cost of inventory is\",cost)"
      ],
      "metadata": {
        "colab": {
          "base_uri": "https://localhost:8080/"
        },
        "id": "kMC1wsYM1BrF",
        "outputId": "cf6618c6-e0bc-4cd8-d42f-f8f919375a6b"
      },
      "execution_count": 11,
      "outputs": [
        {
          "output_type": "stream",
          "name": "stdout",
          "text": [
            "The optimal stock level 122.988019871839\n",
            "The cost of inventory is 5.573246783608888\n"
          ]
        }
      ]
    }
  ]
}