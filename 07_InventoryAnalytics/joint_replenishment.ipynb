{
  "nbformat": 4,
  "nbformat_minor": 0,
  "metadata": {
    "colab": {
      "provenance": [],
      "authorship_tag": "ABX9TyNX9uWHrwncFaZOTieLO1iY",
      "include_colab_link": true
    },
    "kernelspec": {
      "name": "python3",
      "display_name": "Python 3"
    },
    "language_info": {
      "name": "python"
    }
  },
  "cells": [
    {
      "cell_type": "markdown",
      "metadata": {
        "id": "view-in-github",
        "colab_type": "text"
      },
      "source": [
        "<a href=\"https://colab.research.google.com/github/ozturkcemal/SupplyChainAnalytics/blob/main/07_InventoryAnalytics/joint_replenishment.ipynb\" target=\"_parent\"><img src=\"https://colab.research.google.com/assets/colab-badge.svg\" alt=\"Open In Colab\"/></a>"
      ]
    },
    {
      "cell_type": "code",
      "source": [
        "#install stockpyl inventory optimization package https://pypi.org/project/stockpyl/\n",
        "!pip install stockpyl"
      ],
      "metadata": {
        "id": "bkwRMUcp0UoM"
      },
      "execution_count": null,
      "outputs": []
    },
    {
      "cell_type": "code",
      "source": [
        "#import the package and bring the content\n",
        "import stockpyl"
      ],
      "metadata": {
        "id": "C4yiUsHC0X6V"
      },
      "execution_count": 2,
      "outputs": []
    },
    {
      "cell_type": "code",
      "source": [
        "# bringing eoq module from the stockpyl package and importing the economic_order_quantity function of the module\n",
        "from stockpyl.eoq import joint_replenishment_problem_silver_heuristic"
      ],
      "metadata": {
        "id": "Wpteli8I07hy"
      },
      "execution_count": 3,
      "outputs": []
    },
    {
      "cell_type": "markdown",
      "source": [
        "Providing parameters;"
      ],
      "metadata": {
        "id": "bMWegOqC8f8Q"
      }
    },
    {
      "cell_type": "code",
      "source": [
        "shared_fixed_cost = 600\n",
        "individual_fixed_costs = [120, 840, 300]\n",
        "holding_costs = [160, 20, 50]\n",
        "demand_rates = [1, 1, 1]"
      ],
      "metadata": {
        "id": "mLIvH2aq1MFW"
      },
      "execution_count": 4,
      "outputs": []
    },
    {
      "cell_type": "markdown",
      "source": [
        "Calling the EOQ function with given parameters"
      ],
      "metadata": {
        "id": "bRJY269E8tiv"
      }
    },
    {
      "cell_type": "code",
      "source": [
        "Q,T,m_n,cost=joint_replenishment_problem_silver_heuristic(shared_fixed_cost,individual_fixed_costs,holding_costs,demand_rates)\n",
        "print(\"Order quantities are \",Q)\n",
        "print(\"Order cycle time is \",T)\n",
        "print(\"Order multiples is \",m_n)\n",
        "print(\"The total cost is \",cost)"
      ],
      "metadata": {
        "colab": {
          "base_uri": "https://localhost:8080/"
        },
        "id": "kMC1wsYM1BrF",
        "outputId": "b751d6e7-42df-40aa-bf14-f2ee08a7ec9b"
      },
      "execution_count": 7,
      "outputs": [
        {
          "output_type": "stream",
          "name": "stdout",
          "text": [
            "Order quantities are  [3.103164454170876, 9.309493362512628, 3.103164454170876]\n",
            "Order cycle time is  3.103164454170876\n",
            "Order multiples is  [1, 3, 1]\n",
            "The total cost is  837.8544026261366\n"
          ]
        }
      ]
    }
  ]
}