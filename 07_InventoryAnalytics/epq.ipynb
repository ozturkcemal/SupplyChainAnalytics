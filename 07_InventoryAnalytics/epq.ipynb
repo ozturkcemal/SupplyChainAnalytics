{
  "nbformat": 4,
  "nbformat_minor": 0,
  "metadata": {
    "colab": {
      "provenance": [],
      "authorship_tag": "ABX9TyNuETdoBFA920RuOU3QtC+0",
      "include_colab_link": true
    },
    "kernelspec": {
      "name": "python3",
      "display_name": "Python 3"
    },
    "language_info": {
      "name": "python"
    }
  },
  "cells": [
    {
      "cell_type": "markdown",
      "metadata": {
        "id": "view-in-github",
        "colab_type": "text"
      },
      "source": [
        "<a href=\"https://colab.research.google.com/github/ozturkcemal/SupplyChainAnalytics/blob/main/07_InventoryAnalytics/epq.ipynb\" target=\"_parent\"><img src=\"https://colab.research.google.com/assets/colab-badge.svg\" alt=\"Open In Colab\"/></a>"
      ]
    },
    {
      "cell_type": "code",
      "source": [
        "#install stockpyl inventory optimization package https://pypi.org/project/stockpyl/\n",
        "!pip install stockpyl"
      ],
      "metadata": {
        "id": "bkwRMUcp0UoM"
      },
      "execution_count": null,
      "outputs": []
    },
    {
      "cell_type": "code",
      "source": [
        "#import the package and bring the content\n",
        "import stockpyl"
      ],
      "metadata": {
        "id": "C4yiUsHC0X6V"
      },
      "execution_count": null,
      "outputs": []
    },
    {
      "cell_type": "code",
      "source": [
        "# bringing eoq module from the stockpyl package and importing the economic_order_quantity function of the module\n",
        "from stockpyl.eoq import economic_production_quantity"
      ],
      "metadata": {
        "id": "Wpteli8I07hy"
      },
      "execution_count": null,
      "outputs": []
    },
    {
      "cell_type": "markdown",
      "source": [
        "*Providing parameters; fixed cost, holding cost and demand rate of the instance*"
      ],
      "metadata": {
        "id": "bMWegOqC8f8Q"
      }
    },
    {
      "cell_type": "code",
      "source": [
        "fixedCost=float(input(\"Enter the fixed ordering cost: \"))"
      ],
      "metadata": {
        "colab": {
          "base_uri": "https://localhost:8080/"
        },
        "id": "nNo_cjXU2n8v",
        "outputId": "d77b13b8-f30b-4ac2-de75-5eabd5f9128c"
      },
      "execution_count": null,
      "outputs": [
        {
          "name": "stdout",
          "output_type": "stream",
          "text": [
            "Enter the fixed ordering cost: 10\n"
          ]
        }
      ]
    },
    {
      "cell_type": "code",
      "source": [
        "holdingCost=float(input(\"Enter the holding cost: \"))"
      ],
      "metadata": {
        "colab": {
          "base_uri": "https://localhost:8080/"
        },
        "id": "nG54a9Tu4YPd",
        "outputId": "6e74d6ea-b288-4012-aa7a-b3baf8cf6c1c"
      },
      "execution_count": null,
      "outputs": [
        {
          "name": "stdout",
          "output_type": "stream",
          "text": [
            "Enter the holding cost: 0.50\n"
          ]
        }
      ]
    },
    {
      "cell_type": "code",
      "source": [
        "demandRate=float(input(\"Enter the demand rate: \"))"
      ],
      "metadata": {
        "colab": {
          "base_uri": "https://localhost:8080/"
        },
        "id": "sqRNOgrT2vVy",
        "outputId": "81b26913-755d-4086-dc94-4df279f87ca7"
      },
      "execution_count": null,
      "outputs": [
        {
          "name": "stdout",
          "output_type": "stream",
          "text": [
            "Enter the demand rate: 1000\n"
          ]
        }
      ]
    },
    {
      "cell_type": "code",
      "source": [
        "productionRate=float(input(\"Enter the production rate: \"))"
      ],
      "metadata": {
        "colab": {
          "base_uri": "https://localhost:8080/"
        },
        "id": "CpWMJhPZqgll",
        "outputId": "6756411e-6832-49f1-a524-e999c37be05a"
      },
      "execution_count": null,
      "outputs": [
        {
          "name": "stdout",
          "output_type": "stream",
          "text": [
            "Enter the production rate: 2000\n"
          ]
        }
      ]
    },
    {
      "cell_type": "markdown",
      "source": [
        "Calling the EPQ function with given parameters"
      ],
      "metadata": {
        "id": "bRJY269E8tiv"
      }
    },
    {
      "cell_type": "code",
      "source": [
        "Q,cost=economic_production_quantity(fixedCost,holdingCost,demandRate,productionRate)\n",
        "print(\"The economic production quantity is\",Q)\n",
        "print(\"The cost of inventory policy is\",cost)"
      ],
      "metadata": {
        "colab": {
          "base_uri": "https://localhost:8080/"
        },
        "id": "kMC1wsYM1BrF",
        "outputId": "0d05792d-d3eb-46a6-e9be-4207a292ebd8"
      },
      "execution_count": null,
      "outputs": [
        {
          "output_type": "stream",
          "name": "stdout",
          "text": [
            "The economic production quantity is 282.842712474619\n",
            "The cost of inventory policy is 70.71067811865476\n"
          ]
        }
      ]
    }
  ]
}