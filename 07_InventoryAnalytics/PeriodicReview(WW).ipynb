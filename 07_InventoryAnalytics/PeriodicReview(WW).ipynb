{
  "nbformat": 4,
  "nbformat_minor": 0,
  "metadata": {
    "colab": {
      "provenance": [],
      "authorship_tag": "ABX9TyNHQBStLNzzB1/iZ/xqJuPg",
      "include_colab_link": true
    },
    "kernelspec": {
      "name": "python3",
      "display_name": "Python 3"
    },
    "language_info": {
      "name": "python"
    }
  },
  "cells": [
    {
      "cell_type": "markdown",
      "metadata": {
        "id": "view-in-github",
        "colab_type": "text"
      },
      "source": [
        "<a href=\"https://colab.research.google.com/github/ozturkcemal/SupplyChainAnalytics/blob/main/07_InventoryAnalytics/PeriodicReview(WW).ipynb\" target=\"_parent\"><img src=\"https://colab.research.google.com/assets/colab-badge.svg\" alt=\"Open In Colab\"/></a>"
      ]
    },
    {
      "cell_type": "code",
      "source": [
        "#install stockpyl inventory optimization package https://pypi.org/project/stockpyl/\n",
        "!pip install stockpyl"
      ],
      "metadata": {
        "id": "bkwRMUcp0UoM"
      },
      "execution_count": null,
      "outputs": []
    },
    {
      "cell_type": "code",
      "source": [
        "# bringing eoq module from the stockpyl package and importing the economic_order_quantity function of the module\n",
        "from stockpyl.wagner_whitin import wagner_whitin"
      ],
      "metadata": {
        "id": "Wpteli8I07hy"
      },
      "execution_count": 10,
      "outputs": []
    },
    {
      "cell_type": "markdown",
      "source": [
        "*Providing parameters; fixed cost, holding cost and demand rate of the instance*"
      ],
      "metadata": {
        "id": "bMWegOqC8f8Q"
      }
    },
    {
      "cell_type": "code",
      "source": [
        "nbPeriods=int(input(\"Enter the number of periods: \"))"
      ],
      "metadata": {
        "colab": {
          "base_uri": "https://localhost:8080/"
        },
        "id": "1QDRnUdYPFm5",
        "outputId": "9433c9ae-e811-46be-fd19-6b2c6f265a5c"
      },
      "execution_count": 11,
      "outputs": [
        {
          "name": "stdout",
          "output_type": "stream",
          "text": [
            "Enter the number of periods: 4\n"
          ]
        }
      ]
    },
    {
      "cell_type": "code",
      "source": [
        "holdingCost=float(input(\"Enter the holding cost: \"))"
      ],
      "metadata": {
        "colab": {
          "base_uri": "https://localhost:8080/"
        },
        "id": "nG54a9Tu4YPd",
        "outputId": "0ab6acb2-5a44-4c0b-ed66-df6835c24a88"
      },
      "execution_count": 12,
      "outputs": [
        {
          "name": "stdout",
          "output_type": "stream",
          "text": [
            "Enter the holding cost: 2\n"
          ]
        }
      ]
    },
    {
      "cell_type": "code",
      "source": [
        "fixedCost=float(input(\"Enter the fixed ordering cost: \"))"
      ],
      "metadata": {
        "colab": {
          "base_uri": "https://localhost:8080/"
        },
        "id": "nNo_cjXU2n8v",
        "outputId": "5249ad22-5894-4bb8-d8bb-2a3908b7ca3a"
      },
      "execution_count": 13,
      "outputs": [
        {
          "name": "stdout",
          "output_type": "stream",
          "text": [
            "Enter the fixed ordering cost: 500\n"
          ]
        }
      ]
    },
    {
      "cell_type": "code",
      "source": [
        "user_input = input(\"Enter demand per period separated by spaces: \")\n",
        "demand= list(map(float, user_input.split()))"
      ],
      "metadata": {
        "colab": {
          "base_uri": "https://localhost:8080/"
        },
        "id": "sqRNOgrT2vVy",
        "outputId": "8d305569-e038-442e-eb2e-2a2673241085"
      },
      "execution_count": 14,
      "outputs": [
        {
          "name": "stdout",
          "output_type": "stream",
          "text": [
            "Enter demand per period separated by spaces: 90 120 80 70\n"
          ]
        }
      ]
    },
    {
      "cell_type": "code",
      "source": [
        "Q,cost,carriedCost,nextOrder=wagner_whitin(nbPeriods,holdingCost,fixedCost,demand)\n",
        "print(\"Quantities ordered in each period: \",Q)\n",
        "print(\"The cost of inventory policy is: \",cost)\n",
        "print(\"Cost carried to the next period: \", carriedCost)\n",
        "print(\"The list of next order period: \", nextOrder)"
      ],
      "metadata": {
        "colab": {
          "base_uri": "https://localhost:8080/"
        },
        "id": "kMC1wsYM1BrF",
        "outputId": "e5c723ce-e17e-4b17-8c56-515b22642531"
      },
      "execution_count": 15,
      "outputs": [
        {
          "output_type": "stream",
          "name": "stdout",
          "text": [
            "Quantities ordered in each period:  [0, 210.0, 0, 150.0, 0]\n",
            "The cost of inventory policy is:  1380.0\n",
            "Cost carried to the next period:  [   0. 1380.  940.  640.  500.    0.]\n",
            "The list of next order period:  [0, 3, 5, 5, 5]\n"
          ]
        }
      ]
    }
  ]
}